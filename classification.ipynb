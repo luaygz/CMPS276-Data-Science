{
 "cells": [
  {
   "cell_type": "code",
   "execution_count": 1,
   "id": "5650c293",
   "metadata": {},
   "outputs": [],
   "source": [
    "import pandas as pd\n",
    "import numpy as np\n",
    "from sklearn.model_selection import train_test_split\n",
    "from sklearn.preprocessing import StandardScaler, RobustScaler\n",
    "from sklearn.neighbors import KNeighborsClassifier\n",
    "\n",
    "from sklearn.tree import DecisionTreeClassifier\n",
    "from xgboost import XGBClassifier\n",
    "from sklearn.ensemble import RandomForestClassifier\n",
    "from sklearn.metrics import r2_score, mean_squared_error, mean_absolute_error\n",
    "from sklearn.metrics import f1_score\n",
    "from sklearn.svm import SVC\n",
    "\n",
    "import tensorflow as tf\n",
    "import tensorflow_addons as tfa\n",
    "from tensorflow import keras\n",
    "from tensorflow.keras import layers\n",
    "\n",
    "from sklearn.utils.class_weight import compute_class_weight\n",
    "from sklearn.metrics import multilabel_confusion_matrix, confusion_matrix\n",
    "from sklearn.metrics import ConfusionMatrixDisplay\n",
    "\n",
    "from sklearn.tree import _tree\n",
    "\n",
    "import seaborn as sn\n",
    "import matplotlib.pyplot as plt"
   ]
  },
  {
   "cell_type": "code",
   "execution_count": 2,
   "id": "26ca800b",
   "metadata": {},
   "outputs": [],
   "source": [
    "def plot_loss(history):\n",
    "    plt.plot(history.history['loss'], label='loss')\n",
    "    plt.plot(history.history['val_loss'], label='val_loss')\n",
    "    plt.ylim([0, 0.5])\n",
    "    plt.xlabel('Epoch')\n",
    "    plt.ylabel('Error')\n",
    "    plt.legend()\n",
    "    plt.grid(True)"
   ]
  },
  {
   "cell_type": "code",
   "execution_count": 3,
   "id": "ca782e49",
   "metadata": {},
   "outputs": [],
   "source": [
    "def plot_confusion_matrix(y_test, y_pred):\n",
    "    cm = confusion_matrix(y_test, y_pred)\n",
    "    df_cm = pd.DataFrame(cm, index = [1,2,3,4], columns = [1,2,3,4])\n",
    "    plt.figure(figsize = (10,7))\n",
    "    sn.heatmap(df_cm, annot=True, cmap=\"Blues\", fmt=\"d\")"
   ]
  },
  {
   "cell_type": "code",
   "execution_count": 4,
   "id": "cdd8960f",
   "metadata": {},
   "outputs": [],
   "source": [
    "df = pd.read_csv(\"US_Accidents_Dec20_updated_cleaned_imputed_data_prepared.csv\")"
   ]
  },
  {
   "cell_type": "code",
   "execution_count": 5,
   "id": "1281f4fa",
   "metadata": {},
   "outputs": [],
   "source": [
    "X, y = df.drop([\"Severity\"], axis=1), df[\"Severity\"]"
   ]
  },
  {
   "cell_type": "code",
   "execution_count": 6,
   "id": "8242550a",
   "metadata": {},
   "outputs": [],
   "source": [
    "X_train, X_test, y_train, y_test = train_test_split(X, y, test_size=0.2, random_state=0)"
   ]
  },
  {
   "cell_type": "code",
   "execution_count": 7,
   "id": "5f53ece0",
   "metadata": {},
   "outputs": [],
   "source": [
    "cols_to_scale = [\"Temperature(F)\", \"Wind_Chill(F)\", \"Humidity(%)\", \"Pressure(in)\", \"Visibility(mi)\", \"Wind_Speed(mph)\", \"Precipitation(in)\"]"
   ]
  },
  {
   "cell_type": "code",
   "execution_count": 8,
   "id": "eeeee31f",
   "metadata": {},
   "outputs": [
    {
     "name": "stderr",
     "output_type": "stream",
     "text": [
      "<ipython-input-8-22cd63f610dd>:3: SettingWithCopyWarning: \n",
      "A value is trying to be set on a copy of a slice from a DataFrame.\n",
      "Try using .loc[row_indexer,col_indexer] = value instead\n",
      "\n",
      "See the caveats in the documentation: https://pandas.pydata.org/pandas-docs/stable/user_guide/indexing.html#returning-a-view-versus-a-copy\n",
      "  X_train[cols_to_scale] = scaler.transform(X_train[cols_to_scale])\n",
      "/home/luay/.local/lib/python3.8/site-packages/pandas/core/indexing.py:1738: SettingWithCopyWarning: \n",
      "A value is trying to be set on a copy of a slice from a DataFrame.\n",
      "Try using .loc[row_indexer,col_indexer] = value instead\n",
      "\n",
      "See the caveats in the documentation: https://pandas.pydata.org/pandas-docs/stable/user_guide/indexing.html#returning-a-view-versus-a-copy\n",
      "  self._setitem_single_column(loc, value[:, i].tolist(), pi)\n",
      "<ipython-input-8-22cd63f610dd>:4: SettingWithCopyWarning: \n",
      "A value is trying to be set on a copy of a slice from a DataFrame.\n",
      "Try using .loc[row_indexer,col_indexer] = value instead\n",
      "\n",
      "See the caveats in the documentation: https://pandas.pydata.org/pandas-docs/stable/user_guide/indexing.html#returning-a-view-versus-a-copy\n",
      "  X_test[cols_to_scale] = scaler.transform(X_test[cols_to_scale])\n",
      "/home/luay/.local/lib/python3.8/site-packages/pandas/core/indexing.py:1738: SettingWithCopyWarning: \n",
      "A value is trying to be set on a copy of a slice from a DataFrame.\n",
      "Try using .loc[row_indexer,col_indexer] = value instead\n",
      "\n",
      "See the caveats in the documentation: https://pandas.pydata.org/pandas-docs/stable/user_guide/indexing.html#returning-a-view-versus-a-copy\n",
      "  self._setitem_single_column(loc, value[:, i].tolist(), pi)\n"
     ]
    }
   ],
   "source": [
    "scaler = StandardScaler()\n",
    "scaler.fit(X_train[cols_to_scale])\n",
    "X_train[cols_to_scale] = scaler.transform(X_train[cols_to_scale])\n",
    "X_test[cols_to_scale] = scaler.transform(X_test[cols_to_scale])"
   ]
  },
  {
   "cell_type": "markdown",
   "id": "67b407c5",
   "metadata": {},
   "source": [
    "# KNN Classifier"
   ]
  },
  {
   "cell_type": "markdown",
   "id": "5d14cd08",
   "metadata": {},
   "source": [
    "### It takes a _very_ long time to compute all 1.5 million rows, so we select a subset to evaluate"
   ]
  },
  {
   "cell_type": "code",
   "execution_count": 92,
   "id": "80a67b6a",
   "metadata": {},
   "outputs": [],
   "source": [
    "num_per_class_train = 100000\n",
    "num_per_class_test = 1000"
   ]
  },
  {
   "cell_type": "code",
   "execution_count": 93,
   "id": "b8f556b4",
   "metadata": {},
   "outputs": [],
   "source": [
    "X_train_ones = X_train[y_train==1][:num_per_class_train]\n",
    "y_train_ones = y_train[y_train==1][:num_per_class_train]\n",
    "\n",
    "X_train_twos = X_train[y_train==2][:num_per_class_train]\n",
    "y_train_twos = y_train[y_train==2][:num_per_class_train]\n",
    "\n",
    "X_train_threes = X_train[y_train==3][:num_per_class_train]\n",
    "y_train_threes = y_train[y_train==3][:num_per_class_train]\n",
    "\n",
    "X_train_fours = X_train[y_train==4][:num_per_class_train]\n",
    "y_train_fours = y_train[y_train==4][:num_per_class_train]\n",
    "\n",
    "X_subset_train = np.concatenate((X_train_ones, X_train_twos, X_train_threes, X_train_fours), axis=0)\n",
    "y_subset_train = np.concatenate((y_train_ones, y_train_twos, y_train_threes, y_train_fours), axis=0)"
   ]
  },
  {
   "cell_type": "code",
   "execution_count": 94,
   "id": "06c09cdb",
   "metadata": {},
   "outputs": [],
   "source": [
    "knn = KNeighborsClassifier(n_neighbors=100, n_jobs=-1)\n",
    "_ = knn.fit(X_subset_train, y_subset_train)"
   ]
  },
  {
   "cell_type": "code",
   "execution_count": 95,
   "id": "a5e9e6a1",
   "metadata": {},
   "outputs": [],
   "source": [
    "X_test_ones = X_test[y_test==1][:num_per_class_test]\n",
    "y_test_ones = y_test[y_test==1][:num_per_class_test]\n",
    "\n",
    "X_test_twos = X_test[y_test==2][:num_per_class_test]\n",
    "y_test_twos = y_test[y_test==2][:num_per_class_test]\n",
    "\n",
    "X_test_threes = X_test[y_test==3][:num_per_class_test]\n",
    "y_test_threes = y_test[y_test==3][:num_per_class_test]\n",
    "\n",
    "X_test_fours = X_test[y_test==4][:num_per_class_test]\n",
    "y_test_fours = y_test[y_test==4][:num_per_class_test]"
   ]
  },
  {
   "cell_type": "code",
   "execution_count": 96,
   "id": "ccd4c323",
   "metadata": {},
   "outputs": [],
   "source": [
    "y_pred_ones = knn.predict(X_test_ones)\n",
    "y_pred_twos = knn.predict(X_test_twos)\n",
    "y_pred_threes = knn.predict(X_test_threes)\n",
    "y_pred_fours = knn.predict(X_test_fours)"
   ]
  },
  {
   "cell_type": "code",
   "execution_count": 80,
   "id": "97183eff",
   "metadata": {},
   "outputs": [],
   "source": [
    "y_pred = np.concatenate((y_pred_ones, y_pred_twos, y_pred_threes, y_pred_fours), axis=0)\n",
    "y_test_subset = np.concatenate((y_test_ones, y_test_twos, y_test_threes, y_test_fours), axis=0)"
   ]
  },
  {
   "cell_type": "code",
   "execution_count": 81,
   "id": "6043a2cd",
   "metadata": {},
   "outputs": [
    {
     "name": "stdout",
     "output_type": "stream",
     "text": [
      "f1_macro: 0.1795231439885528, f1_micro: 0.253, f1_weighted: 0.1795231439885528\n"
     ]
    }
   ],
   "source": [
    "f1_macro = f1_score(y_test_subset, y_pred, average='macro')\n",
    "f1_micro = f1_score(y_test_subset, y_pred, average='micro')\n",
    "f1_weighted = f1_score(y_test_subset, y_pred, average='weighted')\n",
    "print(f\"f1_macro: {f1_macro}, f1_micro: {f1_micro}, f1_weighted: {f1_weighted}\")"
   ]
  },
  {
   "cell_type": "markdown",
   "id": "56bc534a",
   "metadata": {},
   "source": [
    "# SVM"
   ]
  },
  {
   "cell_type": "markdown",
   "id": "f6ec2fcf",
   "metadata": {},
   "source": [
    "### Training the SVM is extremely slow too"
   ]
  },
  {
   "cell_type": "code",
   "execution_count": 9,
   "id": "9aaa5480",
   "metadata": {},
   "outputs": [],
   "source": [
    "num_per_class_train = 4000\n",
    "num_per_class_test = 1000"
   ]
  },
  {
   "cell_type": "code",
   "execution_count": 10,
   "id": "8d3f7f3b",
   "metadata": {},
   "outputs": [],
   "source": [
    "X_train_ones = X_train[y_train==1][:num_per_class_train]\n",
    "y_train_ones = y_train[y_train==1][:num_per_class_train]\n",
    "\n",
    "X_train_twos = X_train[y_train==2][:num_per_class_train]\n",
    "y_train_twos = y_train[y_train==2][:num_per_class_train]\n",
    "\n",
    "X_train_threes = X_train[y_train==3][:num_per_class_train]\n",
    "y_train_threes = y_train[y_train==3][:num_per_class_train]\n",
    "\n",
    "X_train_fours = X_train[y_train==4][:num_per_class_train]\n",
    "y_train_fours = y_train[y_train==4][:num_per_class_train]\n",
    "\n",
    "X_subset_train = np.concatenate((X_train_ones, X_train_twos, X_train_threes, X_train_fours), axis=0)\n",
    "y_subset_train = np.concatenate((y_train_ones, y_train_twos, y_train_threes, y_train_fours), axis=0)"
   ]
  },
  {
   "cell_type": "code",
   "execution_count": 16,
   "id": "441886da",
   "metadata": {},
   "outputs": [],
   "source": [
    "X_test_ones = X_test[y_test==1][:num_per_class_test]\n",
    "y_test_ones = y_test[y_test==1][:num_per_class_test]\n",
    "\n",
    "X_test_twos = X_test[y_test==2][:num_per_class_test]\n",
    "y_test_twos = y_test[y_test==2][:num_per_class_test]\n",
    "\n",
    "X_test_threes = X_test[y_test==3][:num_per_class_test]\n",
    "y_test_threes = y_test[y_test==3][:num_per_class_test]\n",
    "\n",
    "X_test_fours = X_test[y_test==4][:num_per_class_test]\n",
    "y_test_fours = y_test[y_test==4][:num_per_class_test]\n",
    "\n",
    "X_subset_test = np.concatenate((X_test_ones, X_test_twos, X_test_threes, X_test_fours), axis=0)\n",
    "y_subset_test = np.concatenate((y_test_ones, y_test_twos, y_test_threes, y_test_fours), axis=0)"
   ]
  },
  {
   "cell_type": "code",
   "execution_count": 13,
   "id": "88f83c58",
   "metadata": {},
   "outputs": [],
   "source": [
    "unique_classes = np.unique(y_train)\n",
    "svm_class_weight = {(key+1): value for key, value in enumerate(compute_class_weight(\"balanced\", unique_classes, y_train))}"
   ]
  },
  {
   "cell_type": "code",
   "execution_count": 14,
   "id": "0a0d5ba0",
   "metadata": {},
   "outputs": [
    {
     "data": {
      "text/plain": [
       "SVC(class_weight={1: 13.428971610788786, 2: 0.31260271020926594,\n",
       "                  3: 2.3509602710623847, 4: 3.319750700709468})"
      ]
     },
     "execution_count": 14,
     "metadata": {},
     "output_type": "execute_result"
    }
   ],
   "source": [
    "svm = SVC(class_weight=svm_class_weight)\n",
    "svm.fit(X_subset_train, y_subset_train)"
   ]
  },
  {
   "cell_type": "code",
   "execution_count": 17,
   "id": "9865afac",
   "metadata": {},
   "outputs": [],
   "source": [
    "y_pred = svm.predict(X_subset_test)"
   ]
  },
  {
   "cell_type": "code",
   "execution_count": 18,
   "id": "65a69dad",
   "metadata": {},
   "outputs": [
    {
     "name": "stdout",
     "output_type": "stream",
     "text": [
      "f1_macro: 0.4988733477314963, f1_micro: 0.55625, f1_weighted: 0.4988733477314963\n"
     ]
    }
   ],
   "source": [
    "f1_macro = f1_score(y_subset_test, y_pred, average=\"macro\")\n",
    "f1_micro = f1_score(y_subset_test, y_pred, average=\"micro\")\n",
    "f1_weighted = f1_score(y_subset_test, y_pred, average=\"weighted\")\n",
    "print(f\"f1_macro: {f1_macro}, f1_micro: {f1_micro}, f1_weighted: {f1_weighted}\")"
   ]
  },
  {
   "cell_type": "markdown",
   "id": "6d73312e",
   "metadata": {},
   "source": [
    "# Decision tree"
   ]
  },
  {
   "cell_type": "code",
   "execution_count": 103,
   "id": "baac22b9",
   "metadata": {},
   "outputs": [
    {
     "name": "stderr",
     "output_type": "stream",
     "text": [
      "/home/luay/.local/lib/python3.8/site-packages/sklearn/utils/validation.py:70: FutureWarning: Pass classes=[1. 2. 3. 4.], y=1142475    2.0\n",
      "1355165    2.0\n",
      "1097232    2.0\n",
      "225034     2.0\n",
      "1173800    2.0\n",
      "          ... \n",
      "152315     3.0\n",
      "963395     3.0\n",
      "117952     2.0\n",
      "1484405    2.0\n",
      "305711     2.0\n",
      "Name: Severity, Length: 1212851, dtype: float64 as keyword args. From version 1.0 (renaming of 0.25) passing these as positional arguments will result in an error\n",
      "  warnings.warn(f\"Pass {args_msg} as keyword args. From version \"\n"
     ]
    }
   ],
   "source": [
    "unique_classes = np.unique(y_train)\n",
    "dtr_class_weight = {(key+1): value for key, value in enumerate(compute_class_weight(\"balanced\", unique_classes, y_train))}"
   ]
  },
  {
   "cell_type": "code",
   "execution_count": 104,
   "id": "1f70a70c",
   "metadata": {},
   "outputs": [],
   "source": [
    "dtr_model = DecisionTreeClassifier(class_weight=dtr_class_weight, random_state=0)\n",
    "_ = dtr_model.fit(X_train, y_train)"
   ]
  },
  {
   "cell_type": "code",
   "execution_count": 105,
   "id": "9dd91d63",
   "metadata": {},
   "outputs": [],
   "source": [
    "y_pred = dtr_model.predict(X_test)"
   ]
  },
  {
   "cell_type": "code",
   "execution_count": 106,
   "id": "f46ce38e",
   "metadata": {},
   "outputs": [
    {
     "name": "stdout",
     "output_type": "stream",
     "text": [
      "f1_macro: 0.2460290068590189, f1_micro: 0.5275499401410889, f1_weighted: 0.5922901946263764\n"
     ]
    }
   ],
   "source": [
    "f1_macro = f1_score(y_test, y_pred, average=\"macro\")\n",
    "f1_micro = f1_score(y_test, y_pred, average=\"micro\")\n",
    "f1_weighted = f1_score(y_test, y_pred, average=\"weighted\")\n",
    "print(f\"f1_macro: {f1_macro}, f1_micro: {f1_micro}, f1_weighted: {f1_weighted}\")"
   ]
  },
  {
   "cell_type": "markdown",
   "id": "98d86be2",
   "metadata": {},
   "source": [
    "# Random forest"
   ]
  },
  {
   "cell_type": "code",
   "execution_count": 107,
   "id": "355c1200",
   "metadata": {},
   "outputs": [],
   "source": [
    "rf_model = RandomForestClassifier(class_weight=dtr_class_weight, n_jobs=-1, random_state=0)\n",
    "_ = rf_model.fit(X_train, y_train)"
   ]
  },
  {
   "cell_type": "code",
   "execution_count": 108,
   "id": "906b5bf0",
   "metadata": {},
   "outputs": [],
   "source": [
    "y_pred = rf_model.predict(X_test)"
   ]
  },
  {
   "cell_type": "code",
   "execution_count": 109,
   "id": "307dc457",
   "metadata": {},
   "outputs": [
    {
     "name": "stdout",
     "output_type": "stream",
     "text": [
      "f1_macro: 0.6614754173672222, f1_micro: 0.8634491265216201, f1_weighted: 0.8465446225263844\n"
     ]
    }
   ],
   "source": [
    "f1_macro = f1_score(y_test, y_pred, average=\"macro\")\n",
    "f1_micro = f1_score(y_test, y_pred, average=\"micro\")\n",
    "f1_weighted = f1_score(y_test, y_pred, average=\"weighted\")\n",
    "print(f\"f1_macro: {f1_macro}, f1_micro: {f1_micro}, f1_weighted: {f1_weighted}\")"
   ]
  },
  {
   "cell_type": "markdown",
   "id": "579f7303",
   "metadata": {},
   "source": [
    "# XGB"
   ]
  },
  {
   "cell_type": "code",
   "execution_count": 110,
   "id": "05b67158",
   "metadata": {},
   "outputs": [
    {
     "name": "stderr",
     "output_type": "stream",
     "text": [
      "/mnt/HDD/anaconda3/envs/tf/lib/python3.8/site-packages/xgboost/sklearn.py:1224: UserWarning: The use of label encoder in XGBClassifier is deprecated and will be removed in a future release. To remove this warning, do the following: 1) Pass option use_label_encoder=False when constructing XGBClassifier object; and 2) Encode your labels (y) as integers starting with 0, i.e. 0, 1, 2, ..., [num_class - 1].\n",
      "  warnings.warn(label_encoder_deprecation_msg, UserWarning)\n"
     ]
    }
   ],
   "source": [
    "df_subset = df.sample(n=100000, random_state=42, replace=False)\n",
    "X_subset, y_subset = df_subset.drop(\"Severity\", axis=1), df_subset[\"Severity\"]\n",
    "X_subset_train, X_subset_test, y_subset_train, y_subset_test = train_test_split(X_subset, y_subset, test_size=0.2, random_state=0)\n",
    "\n",
    "xgb_model = XGBClassifier(\n",
    "    max_depth=10,\n",
    "    n_estimators=100,\n",
    "    importance_type=\"weight\",\n",
    "    n_jobs=-1,\n",
    "    seed=0\n",
    ")\n",
    "\n",
    "_ = xgb_model.fit(\n",
    "    X_subset_train,\n",
    "    y_subset_train,\n",
    "    eval_metric=\"rmse\",\n",
    ")"
   ]
  },
  {
   "cell_type": "code",
   "execution_count": 111,
   "id": "554ffff7",
   "metadata": {},
   "outputs": [],
   "source": [
    "y_pred = xgb_model.predict(X_test)"
   ]
  },
  {
   "cell_type": "code",
   "execution_count": 112,
   "id": "07ad13e3",
   "metadata": {},
   "outputs": [
    {
     "name": "stdout",
     "output_type": "stream",
     "text": [
      "f1_macro: 0.3347742541360613, f1_micro: 0.8017631170167505, f1_weighted: 0.7337228248785796\n"
     ]
    }
   ],
   "source": [
    "f1_macro = f1_score(y_test, y_pred, average=\"macro\")\n",
    "f1_micro = f1_score(y_test, y_pred, average=\"micro\")\n",
    "f1_weighted = f1_score(y_test, y_pred, average=\"weighted\")\n",
    "print(f\"f1_macro: {f1_macro}, f1_micro: {f1_micro}, f1_weighted: {f1_weighted}\")"
   ]
  },
  {
   "cell_type": "markdown",
   "id": "64e31929",
   "metadata": {},
   "source": [
    "# DNN"
   ]
  },
  {
   "cell_type": "code",
   "execution_count": 113,
   "id": "b1027eba",
   "metadata": {},
   "outputs": [
    {
     "name": "stderr",
     "output_type": "stream",
     "text": [
      "/home/luay/.local/lib/python3.8/site-packages/sklearn/utils/validation.py:70: FutureWarning: Pass classes=[1. 2. 3. 4.], y=1142475    2.0\n",
      "1355165    2.0\n",
      "1097232    2.0\n",
      "225034     2.0\n",
      "1173800    2.0\n",
      "          ... \n",
      "152315     3.0\n",
      "963395     3.0\n",
      "117952     2.0\n",
      "1484405    2.0\n",
      "305711     2.0\n",
      "Name: Severity, Length: 1212851, dtype: float64 as keyword args. From version 1.0 (renaming of 0.25) passing these as positional arguments will result in an error\n",
      "  warnings.warn(f\"Pass {args_msg} as keyword args. From version \"\n"
     ]
    }
   ],
   "source": [
    "unique_classes = np.unique(y_train)\n",
    "dnn_class_weight = compute_class_weight(\"balanced\", unique_classes, y_train)\n",
    "dnn_class_weight = dict(enumerate(dnn_class_weight))"
   ]
  },
  {
   "cell_type": "code",
   "execution_count": 114,
   "id": "643fdc7a",
   "metadata": {},
   "outputs": [],
   "source": [
    "BATCH_SIZE = 8192\n",
    "\n",
    "y_train_one_hot = pd.get_dummies(y_train)\n",
    "y_test_one_hot = pd.get_dummies(y_test)\n",
    "\n",
    "dataset_train = tf.data.Dataset.from_tensor_slices((X_train, y_train_one_hot))\n",
    "dataset_test = tf.data.Dataset.from_tensor_slices((X_test, y_test_one_hot))\n",
    "\n",
    "batches_train = dataset_train.shuffle(BATCH_SIZE*4).batch(BATCH_SIZE, drop_remainder=False).prefetch(119)\n",
    "batches_test = dataset_test.batch(BATCH_SIZE, drop_remainder=False).prefetch(tf.data.AUTOTUNE)"
   ]
  },
  {
   "cell_type": "code",
   "execution_count": 115,
   "id": "837ee792",
   "metadata": {},
   "outputs": [],
   "source": [
    "METRICS = [\n",
    "    keras.metrics.TruePositives(name='tp'),\n",
    "    keras.metrics.FalsePositives(name='fp'),\n",
    "    keras.metrics.TrueNegatives(name='tn'),\n",
    "    keras.metrics.FalseNegatives(name='fn'), \n",
    "    keras.metrics.BinaryAccuracy(name='accuracy'),\n",
    "    keras.metrics.Precision(name='precision'),\n",
    "    keras.metrics.Recall(name='recall'),\n",
    "    keras.metrics.AUC(name='auc'),\n",
    "    keras.metrics.AUC(name='prc', curve='PR'),\n",
    "    tfa.metrics.F1Score(name=\"f1_score_macro\", average=\"macro\", num_classes=4),\n",
    "    tfa.metrics.F1Score(name=\"f1_score_micro\", average=\"micro\", num_classes=4)\n",
    "]"
   ]
  },
  {
   "cell_type": "code",
   "execution_count": 116,
   "id": "988681c6",
   "metadata": {},
   "outputs": [],
   "source": [
    "input_size = X_train.shape[1]\n",
    "\n",
    "dnn_model = tf.keras.Sequential([\n",
    "    layers.Dense(input_shape=[input_size,], units=1024, activation='relu'),\n",
    "    layers.Dropout(0.2),\n",
    "    layers.Dense(units=1024, activation='relu'),\n",
    "    layers.Dense(units=4, activation=\"softmax\")\n",
    "])\n",
    "\n",
    "dnn_model.compile(\n",
    "    optimizer=keras.optimizers.Adam(learning_rate=1e-3),\n",
    "    loss=keras.losses.BinaryCrossentropy(),\n",
    "    metrics=METRICS\n",
    ")"
   ]
  },
  {
   "cell_type": "code",
   "execution_count": 117,
   "id": "142409b0",
   "metadata": {
    "scrolled": false
   },
   "outputs": [
    {
     "name": "stdout",
     "output_type": "stream",
     "text": [
      "Epoch 1/10\n",
      "149/149 [==============================] - 8s 42ms/step - loss: 0.4338 - tp: 287926.2600 - fp: 156384.6933 - tn: 1698629.1867 - fn: 330411.7000 - accuracy: 0.7956 - precision: 0.6202 - recall: 0.4041 - auc: 0.7790 - prc: 0.5928 - f1_score_macro: 0.3579 - f1_score_micro: 0.5245 - val_loss: 0.3874 - val_tp: 165011.0000 - val_fp: 90315.0000 - val_tn: 819324.0000 - val_fn: 138202.0000 - val_accuracy: 0.8116 - val_precision: 0.6463 - val_recall: 0.5442 - val_auc: 0.8541 - val_prc: 0.7053 - val_f1_score_macro: 0.4310 - val_f1_score_micro: 0.5985\n",
      "Epoch 2/10\n",
      "149/149 [==============================] - 6s 37ms/step - loss: 0.3542 - tp: 349623.6600 - fp: 176997.5267 - tn: 1678016.3533 - fn: 268714.3000 - accuracy: 0.8188 - precision: 0.6617 - recall: 0.5632 - auc: 0.8617 - prc: 0.7127 - f1_score_macro: 0.4344 - f1_score_micro: 0.6144 - val_loss: 0.3808 - val_tp: 170408.0000 - val_fp: 94558.0000 - val_tn: 815081.0000 - val_fn: 132805.0000 - val_accuracy: 0.8125 - val_precision: 0.6431 - val_recall: 0.5620 - val_auc: 0.8602 - val_prc: 0.7100 - val_f1_score_macro: 0.4413 - val_f1_score_micro: 0.6061\n",
      "Epoch 3/10\n",
      "149/149 [==============================] - 6s 37ms/step - loss: 0.3435 - tp: 360060.8133 - fp: 172445.4867 - tn: 1682568.3933 - fn: 258277.1467 - accuracy: 0.8244 - precision: 0.6729 - recall: 0.5793 - auc: 0.8689 - prc: 0.7241 - f1_score_macro: 0.4472 - f1_score_micro: 0.6270 - val_loss: 0.3652 - val_tp: 177631.0000 - val_fp: 82132.0000 - val_tn: 827507.0000 - val_fn: 125582.0000 - val_accuracy: 0.8287 - val_precision: 0.6838 - val_recall: 0.5858 - val_auc: 0.8722 - val_prc: 0.7297 - val_f1_score_macro: 0.4546 - val_f1_score_micro: 0.6338\n",
      "Epoch 4/10\n",
      "149/149 [==============================] - 5s 37ms/step - loss: 0.3357 - tp: 367422.0133 - fp: 168608.4133 - tn: 1686405.4667 - fn: 250915.9467 - accuracy: 0.8298 - precision: 0.6843 - recall: 0.5924 - auc: 0.8747 - prc: 0.7328 - f1_score_macro: 0.4577 - f1_score_micro: 0.6382 - val_loss: 0.3588 - val_tp: 180954.0000 - val_fp: 80966.0000 - val_tn: 828673.0000 - val_fn: 122259.0000 - val_accuracy: 0.8324 - val_precision: 0.6909 - val_recall: 0.5968 - val_auc: 0.8770 - val_prc: 0.7418 - val_f1_score_macro: 0.4604 - val_f1_score_micro: 0.6417\n",
      "Epoch 5/10\n",
      "149/149 [==============================] - 6s 38ms/step - loss: 0.3300 - tp: 372636.7133 - fp: 166962.2533 - tn: 1688051.6267 - fn: 245701.2467 - accuracy: 0.8326 - precision: 0.6896 - recall: 0.6012 - auc: 0.8791 - prc: 0.7414 - f1_score_macro: 0.4641 - f1_score_micro: 0.6447 - val_loss: 0.3492 - val_tp: 183847.0000 - val_fp: 80310.0000 - val_tn: 829329.0000 - val_fn: 119366.0000 - val_accuracy: 0.8354 - val_precision: 0.6960 - val_recall: 0.6063 - val_auc: 0.8839 - val_prc: 0.7533 - val_f1_score_macro: 0.4689 - val_f1_score_micro: 0.6488\n",
      "Epoch 6/10\n",
      "149/149 [==============================] - 6s 38ms/step - loss: 0.3252 - tp: 377281.8000 - fp: 165768.7133 - tn: 1689245.1667 - fn: 241056.1600 - accuracy: 0.8351 - precision: 0.6940 - recall: 0.6090 - auc: 0.8823 - prc: 0.7463 - f1_score_macro: 0.4708 - f1_score_micro: 0.6507 - val_loss: 0.3353 - val_tp: 192319.0000 - val_fp: 75312.0000 - val_tn: 834327.0000 - val_fn: 110894.0000 - val_accuracy: 0.8465 - val_precision: 0.7186 - val_recall: 0.6343 - val_auc: 0.8940 - val_prc: 0.7706 - val_f1_score_macro: 0.4784 - val_f1_score_micro: 0.6735\n",
      "Epoch 7/10\n",
      "149/149 [==============================] - 5s 36ms/step - loss: 0.3223 - tp: 379319.8333 - fp: 165356.2800 - tn: 1689657.6000 - fn: 239018.1267 - accuracy: 0.8360 - precision: 0.6954 - recall: 0.6123 - auc: 0.8838 - prc: 0.7488 - f1_score_macro: 0.4734 - f1_score_micro: 0.6534 - val_loss: 0.3435 - val_tp: 188093.0000 - val_fp: 78751.0000 - val_tn: 830888.0000 - val_fn: 115120.0000 - val_accuracy: 0.8402 - val_precision: 0.7049 - val_recall: 0.6203 - val_auc: 0.8897 - val_prc: 0.7581 - val_f1_score_macro: 0.4834 - val_f1_score_micro: 0.6624\n",
      "Epoch 8/10\n",
      "149/149 [==============================] - 6s 37ms/step - loss: 0.3172 - tp: 384059.9733 - fp: 163237.9600 - tn: 1691775.9200 - fn: 234277.9867 - accuracy: 0.8385 - precision: 0.7002 - recall: 0.6193 - auc: 0.8867 - prc: 0.7528 - f1_score_macro: 0.4811 - f1_score_micro: 0.6594 - val_loss: 0.3356 - val_tp: 190486.0000 - val_fp: 77991.0000 - val_tn: 831648.0000 - val_fn: 112727.0000 - val_accuracy: 0.8428 - val_precision: 0.7095 - val_recall: 0.6282 - val_auc: 0.8942 - val_prc: 0.7711 - val_f1_score_macro: 0.4898 - val_f1_score_micro: 0.6672\n",
      "Epoch 9/10\n",
      "149/149 [==============================] - 5s 37ms/step - loss: 0.3117 - tp: 388427.8533 - fp: 161817.3133 - tn: 1693196.5667 - fn: 229910.1067 - accuracy: 0.8412 - precision: 0.7051 - recall: 0.6271 - auc: 0.8913 - prc: 0.7616 - f1_score_macro: 0.4883 - f1_score_micro: 0.6657 - val_loss: 0.3205 - val_tp: 195621.0000 - val_fp: 72081.0000 - val_tn: 837558.0000 - val_fn: 107592.0000 - val_accuracy: 0.8519 - val_precision: 0.7307 - val_recall: 0.6452 - val_auc: 0.9049 - val_prc: 0.7867 - val_f1_score_macro: 0.5000 - val_f1_score_micro: 0.6874\n",
      "Epoch 10/10\n",
      "149/149 [==============================] - 5s 36ms/step - loss: 0.3086 - tp: 391413.6200 - fp: 160327.8200 - tn: 1694686.0600 - fn: 226924.3400 - accuracy: 0.8435 - precision: 0.7098 - recall: 0.6327 - auc: 0.8939 - prc: 0.7658 - f1_score_macro: 0.4925 - f1_score_micro: 0.6709 - val_loss: 0.3322 - val_tp: 194042.0000 - val_fp: 80458.0000 - val_tn: 829181.0000 - val_fn: 109171.0000 - val_accuracy: 0.8437 - val_precision: 0.7069 - val_recall: 0.6400 - val_auc: 0.8977 - val_prc: 0.7738 - val_f1_score_macro: 0.4966 - val_f1_score_micro: 0.6729\n"
     ]
    }
   ],
   "source": [
    "history = dnn_model.fit(batches_train, epochs=10, class_weight=dnn_class_weight, validation_data=batches_test)"
   ]
  },
  {
   "cell_type": "code",
   "execution_count": 118,
   "id": "9a01d434",
   "metadata": {},
   "outputs": [
    {
     "name": "stdout",
     "output_type": "stream",
     "text": [
      "38/38 [==============================] - 1s 13ms/step - loss: 0.3322 - tp: 194042.0000 - fp: 80458.0000 - tn: 829181.0000 - fn: 109171.0000 - accuracy: 0.8437 - precision: 0.7069 - recall: 0.6400 - auc: 0.8977 - prc: 0.7738 - f1_score_macro: 0.4966 - f1_score_micro: 0.6729\n"
     ]
    },
    {
     "data": {
      "text/plain": [
       "[0.3321560323238373,\n",
       " 194042.0,\n",
       " 80458.0,\n",
       " 829181.0,\n",
       " 109171.0,\n",
       " 0.8436503410339355,\n",
       " 0.7068925499916077,\n",
       " 0.6399527788162231,\n",
       " 0.8976908326148987,\n",
       " 0.7737524509429932,\n",
       " 0.4966449439525604,\n",
       " 0.672936201095581]"
      ]
     },
     "execution_count": 118,
     "metadata": {},
     "output_type": "execute_result"
    }
   ],
   "source": [
    "dnn_model.evaluate(batches_test)"
   ]
  },
  {
   "cell_type": "code",
   "execution_count": 119,
   "id": "55c23f82",
   "metadata": {
    "scrolled": true
   },
   "outputs": [
    {
     "data": {
      "image/png": "[encoded data removed]",
      "text/plain": [
       "<Figure size 432x288 with 1 Axes>"
      ]
     },
     "metadata": {
      "needs_background": "light"
     },
     "output_type": "display_data"
    }
   ],
   "source": [
    "plot_loss(history)"
   ]
  },
  {
   "cell_type": "code",
   "execution_count": null,
   "id": "d5502681",
   "metadata": {},
   "outputs": [],
   "source": [
    "# df_subset = df.sample(n=X_train.size, random_state=42, replace=False)\n",
    "# X_subset, y_subset = df_subset.drop(\"Severity\", axis=1), df_subset[\"Severity\"]\n",
    "# X_subset_train, X_subset_test, y_subset_train, y_subset_test = train_test_split(X_subset, y_subset, test_size=0.2, random_state=0)\n",
    "# X_subset_train, X_subset_val, y_subset_train, y_subset_val = train_test_split(X_subset_train, y_subset_train, test_size=0.2, random_state=0)"
   ]
  }
 ],
 "metadata": {
  "kernelspec": {
   "display_name": "Python 3",
   "language": "python",
   "name": "python3"
  },
  "language_info": {
   "codemirror_mode": {
    "name": "ipython",
    "version": 3
   },
   "file_extension": ".py",
   "mimetype": "text/x-python",
   "name": "python",
   "nbconvert_exporter": "python",
   "pygments_lexer": "ipython3",
   "version": "3.8.8"
  }
 },
 "nbformat": 4,
 "nbformat_minor": 5
}
