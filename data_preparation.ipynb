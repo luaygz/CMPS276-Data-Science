{
 "cells": [
  {
   "cell_type": "code",
   "execution_count": 137,
   "id": "ac39b503",
   "metadata": {},
   "outputs": [],
   "source": [
    "import pandas as pd\n",
    "import math"
   ]
  },
  {
   "cell_type": "code",
   "execution_count": 150,
   "id": "6f579473",
   "metadata": {},
   "outputs": [],
   "source": [
    "df = pd.read_csv(\"US_Accidents_Dec20_updated_cleaned_imputed.csv\")"
   ]
  },
  {
   "cell_type": "markdown",
   "id": "0f7b9e98",
   "metadata": {},
   "source": [
    "## We already transformed these columns into individual hour, day, month values"
   ]
  },
  {
   "cell_type": "code",
   "execution_count": 152,
   "id": "093c4630",
   "metadata": {},
   "outputs": [],
   "source": [
    "df.drop([\"Start_Time\", \"End_Time\"], axis=1, inplace=True)"
   ]
  },
  {
   "cell_type": "markdown",
   "id": "82f1cbaf",
   "metadata": {},
   "source": [
    "## We drop the distance metric because it is calculated after the accident occurs and would lead to data leakage, and we wouldn't have access to that data beforehand"
   ]
  },
  {
   "cell_type": "code",
   "execution_count": 153,
   "id": "cf6454b6",
   "metadata": {},
   "outputs": [],
   "source": [
    "df.drop([\"Distance(mi)\"], axis=1, inplace=True)"
   ]
  },
  {
   "cell_type": "markdown",
   "id": "f10b7481",
   "metadata": {},
   "source": [
    "## We multiply the time columns by the sine and cosine functions, with a period equal to the range of values the columns take (24 for hour of day, 7 for day of week, 12 for month of year)"
   ]
  },
  {
   "cell_type": "code",
   "execution_count": 154,
   "id": "ae67d257",
   "metadata": {},
   "outputs": [],
   "source": [
    "month_of_year_sin = df[\"Month_Of_Year\"].apply(lambda month: math.sin(2*math.pi*month/12))\n",
    "day_of_week_sin = df[\"Day_Of_Week\"].apply(lambda day: math.sin(2*math.pi*day/7))\n",
    "hour_of_the_day_sin = df[\"Hour_Of_Day\"].apply(lambda hour: math.sin(2*math.pi*hour/24))\n",
    "\n",
    "month_of_year_cos = df[\"Month_Of_Year\"].apply(lambda month: math.cos(2*math.pi*month/12))\n",
    "day_of_week_cos = df[\"Day_Of_Week\"].apply(lambda day: math.cos(2*math.pi*day/7))\n",
    "hour_of_the_day_cos = df[\"Hour_Of_Day\"].apply(lambda hour: math.cos(2*math.pi*hour/24))"
   ]
  },
  {
   "cell_type": "code",
   "execution_count": 155,
   "id": "a5a7425b",
   "metadata": {},
   "outputs": [],
   "source": [
    "df.drop([\"Month_Of_Year\", \"Day_Of_Week\", \"Hour_Of_Day\"], axis=1, inplace=True)"
   ]
  },
  {
   "cell_type": "code",
   "execution_count": 156,
   "id": "0fb12b82",
   "metadata": {},
   "outputs": [],
   "source": [
    "df = pd.concat([df, month_of_year_sin, day_of_week_sin, hour_of_the_day_sin], axis=1)\n",
    "df.rename(columns={\"Month_Of_Year\": \"Month_Of_Year_sin\",\n",
    "                   \"Day_Of_Week\": \"Day_Of_Week_sin\",\n",
    "                   \"Hour_Of_Day\": \"Hour_Of_Day_sin\"\n",
    "                   },\n",
    "                   inplace=True)\n",
    "\n",
    "df = pd.concat([df, month_of_year_cos, day_of_week_cos, hour_of_the_day_cos], axis=1)\n",
    "df.rename(columns={\"Month_Of_Year\": \"Month_Of_Year_cos\",\n",
    "                   \"Day_Of_Week\": \"Day_Of_Week_cos\",\n",
    "                   \"Hour_Of_Day\": \"Hour_Of_Day_cos\"\n",
    "                   },\n",
    "                   inplace=True)"
   ]
  },
  {
   "cell_type": "markdown",
   "id": "6184aa64",
   "metadata": {},
   "source": [
    "## Here we one-hot encode the state column, wind direction, and weather condition"
   ]
  },
  {
   "cell_type": "code",
   "execution_count": 158,
   "id": "39ba9978",
   "metadata": {},
   "outputs": [],
   "source": [
    "state_one_hot = pd.get_dummies(df[\"State\"])\n",
    "df.drop([\"State\"], axis=1, inplace=True)\n",
    "df = pd.concat([df, state_one_hot], axis=1)"
   ]
  },
  {
   "cell_type": "code",
   "execution_count": 160,
   "id": "320bb7dc",
   "metadata": {},
   "outputs": [],
   "source": [
    "wind_direction_one_hot = pd.get_dummies(df[\"Wind_Direction\"])\n",
    "df.drop([\"Wind_Direction\"], axis=1, inplace=True)\n",
    "df = pd.concat([df, wind_direction_one_hot], axis=1)"
   ]
  },
  {
   "cell_type": "code",
   "execution_count": 162,
   "id": "87198508",
   "metadata": {},
   "outputs": [],
   "source": [
    "weather_condition_one_hot = pd.get_dummies(df[\"Weather_Condition\"])\n",
    "df.drop([\"Weather_Condition\"], axis=1, inplace=True)\n",
    "df = pd.concat([df, weather_condition_one_hot], axis=1)"
   ]
  },
  {
   "cell_type": "code",
   "execution_count": 165,
   "id": "dd617c4c",
   "metadata": {
    "scrolled": false
   },
   "outputs": [],
   "source": [
    "df.to_csv(\"US_Accidents_Dec20_updated_cleaned_imputed_data_prepared.csv\", index=False, header=True)"
   ]
  }
 ],
 "metadata": {
  "kernelspec": {
   "display_name": "Python 3",
   "language": "python",
   "name": "python3"
  },
  "language_info": {
   "codemirror_mode": {
    "name": "ipython",
    "version": 3
   },
   "file_extension": ".py",
   "mimetype": "text/x-python",
   "name": "python",
   "nbconvert_exporter": "python",
   "pygments_lexer": "ipython3",
   "version": "3.8.8"
  }
 },
 "nbformat": 4,
 "nbformat_minor": 5
}
