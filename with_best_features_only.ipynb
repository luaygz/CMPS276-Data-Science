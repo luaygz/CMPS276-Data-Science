{
 "cells": [
  {
   "cell_type": "code",
   "execution_count": 30,
   "id": "b31c9e55",
   "metadata": {},
   "outputs": [],
   "source": [
    "import pandas as pd\n",
    "import numpy as np\n",
    "from sklearn.model_selection import train_test_split\n",
    "from sklearn.preprocessing import StandardScaler\n",
    "from sklearn.utils.class_weight import compute_class_weight\n",
    "from sklearn.tree import DecisionTreeClassifier\n",
    "from sklearn.metrics import accuracy_score, f1_score, auc, roc_auc_score"
   ]
  },
  {
   "cell_type": "code",
   "execution_count": 3,
   "id": "7695634a",
   "metadata": {},
   "outputs": [],
   "source": [
    "df = pd.read_csv(\"US_Accidents_Dec20_updated_cleaned_imputed_data_prepared.csv\")"
   ]
  },
  {
   "cell_type": "code",
   "execution_count": 4,
   "id": "b0ba84b8",
   "metadata": {},
   "outputs": [],
   "source": [
    "X, y = df.drop([\"Severity\"], axis=1), df[\"Severity\"]"
   ]
  },
  {
   "cell_type": "code",
   "execution_count": 7,
   "id": "33b2ddd2",
   "metadata": {},
   "outputs": [],
   "source": [
    "X_train, X_test, y_train, y_test = train_test_split(X, y, test_size=0.2, random_state=0)"
   ]
  },
  {
   "cell_type": "code",
   "execution_count": 9,
   "id": "20376d34",
   "metadata": {},
   "outputs": [],
   "source": [
    "cols_to_scale = [\"Temperature(F)\", \"Wind_Chill(F)\", \"Humidity(%)\", \"Pressure(in)\", \"Visibility(mi)\", \"Wind_Speed(mph)\", \"Precipitation(in)\"]"
   ]
  },
  {
   "cell_type": "code",
   "execution_count": 23,
   "id": "2081ea55",
   "metadata": {},
   "outputs": [],
   "source": [
    "best_features = [\"Month_Of_Year_sin\", \"Day_Of_Week_cos\", \"Precipitation(in)\", \"Month_Of_Year_cos\", \"Day_Of_Week_sin\", \"Hour_Of_Day_cos\", \"Temperature(F)\", \"Wind_Chill(F)\", \"Wind_Speed(mph)\", \"Pressure(in)\", \"Visibility(mi)\", \"Clear\", \"Side\", \"CA\"]\n",
    "X_train_best_features = X_train[best_features]\n",
    "X_test_best_features = X_test[best_features]"
   ]
  },
  {
   "cell_type": "code",
   "execution_count": 25,
   "id": "c50157b2",
   "metadata": {},
   "outputs": [],
   "source": [
    "unique_classes = np.unique(y_train)\n",
    "dtr_class_weight = {(key+1): value for key, value in enumerate(compute_class_weight(\"balanced\", unique_classes, y_train))}"
   ]
  },
  {
   "cell_type": "code",
   "execution_count": 26,
   "id": "ca82e529",
   "metadata": {},
   "outputs": [],
   "source": [
    "best_params = {'criterion': 'gini', 'max_depth': 6}\n",
    "dtr_model_best = DecisionTreeClassifier(**best_params, class_weight=dtr_class_weight, random_state=0)"
   ]
  },
  {
   "cell_type": "code",
   "execution_count": 27,
   "id": "ab26747d",
   "metadata": {},
   "outputs": [
    {
     "data": {
      "text/plain": [
       "DecisionTreeClassifier(class_weight={1: 13.428971610788786,\n",
       "                                     2: 0.31260271020926594,\n",
       "                                     3: 2.3509602710623847,\n",
       "                                     4: 3.319750700709468},\n",
       "                       max_depth=6, random_state=0)"
      ]
     },
     "execution_count": 27,
     "metadata": {},
     "output_type": "execute_result"
    }
   ],
   "source": [
    "dtr_model_best.fit(X_train_best_features, y_train)"
   ]
  },
  {
   "cell_type": "code",
   "execution_count": 31,
   "id": "a04056f2",
   "metadata": {},
   "outputs": [
    {
     "name": "stdout",
     "output_type": "stream",
     "text": [
      "Accuracy: 0.5381959216788198, F1 (macro): 0.33775969806778555, F1 (micro): 0.5381959216788198, AUC: 0.777894626775324\n"
     ]
    }
   ],
   "source": [
    "y_pred = dtr_model_best.predict(X_test_best_features)\n",
    "acc = accuracy_score(y_test, y_pred)\n",
    "f1_macro = f1_score(y_test, y_pred, average=\"macro\")\n",
    "f1_micro = f1_score(y_test, y_pred, average=\"micro\")\n",
    "roc_auc = roc_auc_score(y_test, dtr_model_best.predict_proba(X_test_best_features), multi_class=\"ovr\")\n",
    "print(f\"Accuracy: {acc}, F1 (macro): {f1_macro}, F1 (micro): {f1_micro}, AUC: {roc_auc}\")"
   ]
  }
 ],
 "metadata": {
  "kernelspec": {
   "display_name": "Python 3",
   "language": "python",
   "name": "python3"
  },
  "language_info": {
   "codemirror_mode": {
    "name": "ipython",
    "version": 3
   },
   "file_extension": ".py",
   "mimetype": "text/x-python",
   "name": "python",
   "nbconvert_exporter": "python",
   "pygments_lexer": "ipython3",
   "version": "3.8.8"
  }
 },
 "nbformat": 4,
 "nbformat_minor": 5
}
