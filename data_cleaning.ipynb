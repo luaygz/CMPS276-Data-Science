{
 "cells": [
  {
   "cell_type": "code",
   "execution_count": 3,
   "id": "f5becd3b",
   "metadata": {},
   "outputs": [],
   "source": [
    "import numpy as np\n",
    "import pandas as pd\n",
    "from sklearn.experimental import enable_iterative_imputer\n",
    "from sklearn.impute import IterativeImputer\n",
    "\n",
    "import matplotlib.pyplot as plt"
   ]
  },
  {
   "cell_type": "markdown",
   "id": "9063003f",
   "metadata": {},
   "source": [
    "# Load the dataframe"
   ]
  },
  {
   "cell_type": "code",
   "execution_count": 4,
   "id": "f4595087",
   "metadata": {},
   "outputs": [],
   "source": [
    "df = pd.read_csv(\"US_Accidents_Dec20_updated.csv\")"
   ]
  },
  {
   "cell_type": "code",
   "execution_count": 5,
   "id": "1817e2cd",
   "metadata": {},
   "outputs": [],
   "source": [
    "pd.set_option(\"display.max_columns\", None)"
   ]
  },
  {
   "cell_type": "markdown",
   "id": "cdf45642",
   "metadata": {},
   "source": [
    "# Rows, columns, non-null value count, data types"
   ]
  },
  {
   "cell_type": "code",
   "execution_count": 6,
   "id": "76102d96",
   "metadata": {
    "scrolled": false
   },
   "outputs": [
    {
     "name": "stdout",
     "output_type": "stream",
     "text": [
      "<class 'pandas.core.frame.DataFrame'>\n",
      "RangeIndex: 1516064 entries, 0 to 1516063\n",
      "Data columns (total 47 columns):\n",
      " #   Column                 Non-Null Count    Dtype  \n",
      "---  ------                 --------------    -----  \n",
      " 0   ID                     1516064 non-null  object \n",
      " 1   Severity               1516064 non-null  int64  \n",
      " 2   Start_Time             1516064 non-null  object \n",
      " 3   End_Time               1516064 non-null  object \n",
      " 4   Start_Lat              1516064 non-null  float64\n",
      " 5   Start_Lng              1516064 non-null  float64\n",
      " 6   End_Lat                1516064 non-null  float64\n",
      " 7   End_Lng                1516064 non-null  float64\n",
      " 8   Distance(mi)           1516064 non-null  float64\n",
      " 9   Description            1516064 non-null  object \n",
      " 10  Number                 469969 non-null   float64\n",
      " 11  Street                 1516064 non-null  object \n",
      " 12  Side                   1516064 non-null  object \n",
      " 13  City                   1515981 non-null  object \n",
      " 14  County                 1516064 non-null  object \n",
      " 15  State                  1516064 non-null  object \n",
      " 16  Zipcode                1515129 non-null  object \n",
      " 17  Country                1516064 non-null  object \n",
      " 18  Timezone               1513762 non-null  object \n",
      " 19  Airport_Code           1511816 non-null  object \n",
      " 20  Weather_Timestamp      1485800 non-null  object \n",
      " 21  Temperature(F)         1473031 non-null  float64\n",
      " 22  Wind_Chill(F)          1066748 non-null  float64\n",
      " 23  Humidity(%)            1470555 non-null  float64\n",
      " 24  Pressure(in)           1479790 non-null  float64\n",
      " 25  Visibility(mi)         1471853 non-null  float64\n",
      " 26  Wind_Direction         1474206 non-null  object \n",
      " 27  Wind_Speed(mph)        1387202 non-null  float64\n",
      " 28  Precipitation(in)      1005515 non-null  float64\n",
      " 29  Weather_Condition      1472057 non-null  object \n",
      " 30  Amenity                1516064 non-null  bool   \n",
      " 31  Bump                   1516064 non-null  bool   \n",
      " 32  Crossing               1516064 non-null  bool   \n",
      " 33  Give_Way               1516064 non-null  bool   \n",
      " 34  Junction               1516064 non-null  bool   \n",
      " 35  No_Exit                1516064 non-null  bool   \n",
      " 36  Railway                1516064 non-null  bool   \n",
      " 37  Roundabout             1516064 non-null  bool   \n",
      " 38  Station                1516064 non-null  bool   \n",
      " 39  Stop                   1516064 non-null  bool   \n",
      " 40  Traffic_Calming        1516064 non-null  bool   \n",
      " 41  Traffic_Signal         1516064 non-null  bool   \n",
      " 42  Turning_Loop           1516064 non-null  bool   \n",
      " 43  Sunrise_Sunset         1515981 non-null  object \n",
      " 44  Civil_Twilight         1515981 non-null  object \n",
      " 45  Nautical_Twilight      1515981 non-null  object \n",
      " 46  Astronomical_Twilight  1515981 non-null  object \n",
      "dtypes: bool(13), float64(13), int64(1), object(20)\n",
      "memory usage: 412.1+ MB\n"
     ]
    }
   ],
   "source": [
    "df.info()"
   ]
  },
  {
   "cell_type": "markdown",
   "id": "ea171390",
   "metadata": {},
   "source": [
    "# Let's take a peek"
   ]
  },
  {
   "cell_type": "code",
   "execution_count": 37,
   "id": "b84d3f35",
   "metadata": {
    "scrolled": true
   },
   "outputs": [
    {
     "data": {
      "text/html": [
       "<div>\n",
       "<style scoped>\n",
       "    .dataframe tbody tr th:only-of-type {\n",
       "        vertical-align: middle;\n",
       "    }\n",
       "\n",
       "    .dataframe tbody tr th {\n",
       "        vertical-align: top;\n",
       "    }\n",
       "\n",
       "    .dataframe thead th {\n",
       "        text-align: right;\n",
       "    }\n",
       "</style>\n",
       "<table border=\"1\" class=\"dataframe\">\n",
       "  <thead>\n",
       "    <tr style=\"text-align: right;\">\n",
       "      <th></th>\n",
       "      <th>ID</th>\n",
       "      <th>Severity</th>\n",
       "      <th>Start_Time</th>\n",
       "      <th>End_Time</th>\n",
       "      <th>Start_Lat</th>\n",
       "      <th>Start_Lng</th>\n",
       "      <th>End_Lat</th>\n",
       "      <th>End_Lng</th>\n",
       "      <th>Distance(mi)</th>\n",
       "      <th>Description</th>\n",
       "      <th>Number</th>\n",
       "      <th>Street</th>\n",
       "      <th>Side</th>\n",
       "      <th>City</th>\n",
       "      <th>County</th>\n",
       "      <th>State</th>\n",
       "      <th>Zipcode</th>\n",
       "      <th>Country</th>\n",
       "      <th>Timezone</th>\n",
       "      <th>Airport_Code</th>\n",
       "      <th>Weather_Timestamp</th>\n",
       "      <th>Temperature(F)</th>\n",
       "      <th>Wind_Chill(F)</th>\n",
       "      <th>Humidity(%)</th>\n",
       "      <th>Pressure(in)</th>\n",
       "      <th>Visibility(mi)</th>\n",
       "      <th>Wind_Direction</th>\n",
       "      <th>Wind_Speed(mph)</th>\n",
       "      <th>Precipitation(in)</th>\n",
       "      <th>Weather_Condition</th>\n",
       "      <th>Amenity</th>\n",
       "      <th>Bump</th>\n",
       "      <th>Crossing</th>\n",
       "      <th>Give_Way</th>\n",
       "      <th>Junction</th>\n",
       "      <th>No_Exit</th>\n",
       "      <th>Railway</th>\n",
       "      <th>Roundabout</th>\n",
       "      <th>Station</th>\n",
       "      <th>Stop</th>\n",
       "      <th>Traffic_Calming</th>\n",
       "      <th>Traffic_Signal</th>\n",
       "      <th>Turning_Loop</th>\n",
       "      <th>Sunrise_Sunset</th>\n",
       "      <th>Civil_Twilight</th>\n",
       "      <th>Nautical_Twilight</th>\n",
       "      <th>Astronomical_Twilight</th>\n",
       "    </tr>\n",
       "  </thead>\n",
       "  <tbody>\n",
       "    <tr>\n",
       "      <th>0</th>\n",
       "      <td>A-2716600</td>\n",
       "      <td>3</td>\n",
       "      <td>2016-02-08 00:37:08</td>\n",
       "      <td>2016-02-08 06:37:08</td>\n",
       "      <td>40.10891</td>\n",
       "      <td>-83.09286</td>\n",
       "      <td>40.11206</td>\n",
       "      <td>-83.03187</td>\n",
       "      <td>3.230</td>\n",
       "      <td>Between Sawmill Rd/Exit 20 and OH-315/Olentang...</td>\n",
       "      <td>NaN</td>\n",
       "      <td>Outerbelt E</td>\n",
       "      <td>R</td>\n",
       "      <td>Dublin</td>\n",
       "      <td>Franklin</td>\n",
       "      <td>OH</td>\n",
       "      <td>43017</td>\n",
       "      <td>US</td>\n",
       "      <td>US/Eastern</td>\n",
       "      <td>KOSU</td>\n",
       "      <td>2016-02-08 00:53:00</td>\n",
       "      <td>42.1</td>\n",
       "      <td>36.1</td>\n",
       "      <td>58.0</td>\n",
       "      <td>29.76</td>\n",
       "      <td>10.0</td>\n",
       "      <td>SW</td>\n",
       "      <td>10.4</td>\n",
       "      <td>0.00</td>\n",
       "      <td>Light Rain</td>\n",
       "      <td>False</td>\n",
       "      <td>False</td>\n",
       "      <td>False</td>\n",
       "      <td>False</td>\n",
       "      <td>False</td>\n",
       "      <td>False</td>\n",
       "      <td>False</td>\n",
       "      <td>False</td>\n",
       "      <td>False</td>\n",
       "      <td>False</td>\n",
       "      <td>False</td>\n",
       "      <td>False</td>\n",
       "      <td>False</td>\n",
       "      <td>Night</td>\n",
       "      <td>Night</td>\n",
       "      <td>Night</td>\n",
       "      <td>Night</td>\n",
       "    </tr>\n",
       "    <tr>\n",
       "      <th>1</th>\n",
       "      <td>A-2716601</td>\n",
       "      <td>2</td>\n",
       "      <td>2016-02-08 05:56:20</td>\n",
       "      <td>2016-02-08 11:56:20</td>\n",
       "      <td>39.86542</td>\n",
       "      <td>-84.06280</td>\n",
       "      <td>39.86501</td>\n",
       "      <td>-84.04873</td>\n",
       "      <td>0.747</td>\n",
       "      <td>At OH-4/OH-235/Exit 41 - Accident.</td>\n",
       "      <td>NaN</td>\n",
       "      <td>I-70 E</td>\n",
       "      <td>R</td>\n",
       "      <td>Dayton</td>\n",
       "      <td>Montgomery</td>\n",
       "      <td>OH</td>\n",
       "      <td>45424</td>\n",
       "      <td>US</td>\n",
       "      <td>US/Eastern</td>\n",
       "      <td>KFFO</td>\n",
       "      <td>2016-02-08 05:58:00</td>\n",
       "      <td>36.9</td>\n",
       "      <td>NaN</td>\n",
       "      <td>91.0</td>\n",
       "      <td>29.68</td>\n",
       "      <td>10.0</td>\n",
       "      <td>Calm</td>\n",
       "      <td>NaN</td>\n",
       "      <td>0.02</td>\n",
       "      <td>Light Rain</td>\n",
       "      <td>False</td>\n",
       "      <td>False</td>\n",
       "      <td>False</td>\n",
       "      <td>False</td>\n",
       "      <td>False</td>\n",
       "      <td>False</td>\n",
       "      <td>False</td>\n",
       "      <td>False</td>\n",
       "      <td>False</td>\n",
       "      <td>False</td>\n",
       "      <td>False</td>\n",
       "      <td>False</td>\n",
       "      <td>False</td>\n",
       "      <td>Night</td>\n",
       "      <td>Night</td>\n",
       "      <td>Night</td>\n",
       "      <td>Night</td>\n",
       "    </tr>\n",
       "    <tr>\n",
       "      <th>2</th>\n",
       "      <td>A-2716602</td>\n",
       "      <td>2</td>\n",
       "      <td>2016-02-08 06:15:39</td>\n",
       "      <td>2016-02-08 12:15:39</td>\n",
       "      <td>39.10266</td>\n",
       "      <td>-84.52468</td>\n",
       "      <td>39.10209</td>\n",
       "      <td>-84.52396</td>\n",
       "      <td>0.055</td>\n",
       "      <td>At I-71/US-50/Exit 1 - Accident.</td>\n",
       "      <td>NaN</td>\n",
       "      <td>I-75 S</td>\n",
       "      <td>R</td>\n",
       "      <td>Cincinnati</td>\n",
       "      <td>Hamilton</td>\n",
       "      <td>OH</td>\n",
       "      <td>45203</td>\n",
       "      <td>US</td>\n",
       "      <td>US/Eastern</td>\n",
       "      <td>KLUK</td>\n",
       "      <td>2016-02-08 05:53:00</td>\n",
       "      <td>36.0</td>\n",
       "      <td>NaN</td>\n",
       "      <td>97.0</td>\n",
       "      <td>29.70</td>\n",
       "      <td>10.0</td>\n",
       "      <td>Calm</td>\n",
       "      <td>NaN</td>\n",
       "      <td>0.02</td>\n",
       "      <td>Overcast</td>\n",
       "      <td>False</td>\n",
       "      <td>False</td>\n",
       "      <td>False</td>\n",
       "      <td>False</td>\n",
       "      <td>True</td>\n",
       "      <td>False</td>\n",
       "      <td>False</td>\n",
       "      <td>False</td>\n",
       "      <td>False</td>\n",
       "      <td>False</td>\n",
       "      <td>False</td>\n",
       "      <td>False</td>\n",
       "      <td>False</td>\n",
       "      <td>Night</td>\n",
       "      <td>Night</td>\n",
       "      <td>Night</td>\n",
       "      <td>Day</td>\n",
       "    </tr>\n",
       "    <tr>\n",
       "      <th>3</th>\n",
       "      <td>A-2716603</td>\n",
       "      <td>2</td>\n",
       "      <td>2016-02-08 06:15:39</td>\n",
       "      <td>2016-02-08 12:15:39</td>\n",
       "      <td>39.10148</td>\n",
       "      <td>-84.52341</td>\n",
       "      <td>39.09841</td>\n",
       "      <td>-84.52241</td>\n",
       "      <td>0.219</td>\n",
       "      <td>At I-71/US-50/Exit 1 - Accident.</td>\n",
       "      <td>NaN</td>\n",
       "      <td>US-50 E</td>\n",
       "      <td>R</td>\n",
       "      <td>Cincinnati</td>\n",
       "      <td>Hamilton</td>\n",
       "      <td>OH</td>\n",
       "      <td>45202</td>\n",
       "      <td>US</td>\n",
       "      <td>US/Eastern</td>\n",
       "      <td>KLUK</td>\n",
       "      <td>2016-02-08 05:53:00</td>\n",
       "      <td>36.0</td>\n",
       "      <td>NaN</td>\n",
       "      <td>97.0</td>\n",
       "      <td>29.70</td>\n",
       "      <td>10.0</td>\n",
       "      <td>Calm</td>\n",
       "      <td>NaN</td>\n",
       "      <td>0.02</td>\n",
       "      <td>Overcast</td>\n",
       "      <td>False</td>\n",
       "      <td>False</td>\n",
       "      <td>False</td>\n",
       "      <td>False</td>\n",
       "      <td>True</td>\n",
       "      <td>False</td>\n",
       "      <td>False</td>\n",
       "      <td>False</td>\n",
       "      <td>False</td>\n",
       "      <td>False</td>\n",
       "      <td>False</td>\n",
       "      <td>False</td>\n",
       "      <td>False</td>\n",
       "      <td>Night</td>\n",
       "      <td>Night</td>\n",
       "      <td>Night</td>\n",
       "      <td>Day</td>\n",
       "    </tr>\n",
       "    <tr>\n",
       "      <th>4</th>\n",
       "      <td>A-2716604</td>\n",
       "      <td>2</td>\n",
       "      <td>2016-02-08 06:51:45</td>\n",
       "      <td>2016-02-08 12:51:45</td>\n",
       "      <td>41.06213</td>\n",
       "      <td>-81.53784</td>\n",
       "      <td>41.06217</td>\n",
       "      <td>-81.53547</td>\n",
       "      <td>0.123</td>\n",
       "      <td>At Dart Ave/Exit 21 - Accident.</td>\n",
       "      <td>NaN</td>\n",
       "      <td>I-77 N</td>\n",
       "      <td>R</td>\n",
       "      <td>Akron</td>\n",
       "      <td>Summit</td>\n",
       "      <td>OH</td>\n",
       "      <td>44311</td>\n",
       "      <td>US</td>\n",
       "      <td>US/Eastern</td>\n",
       "      <td>KAKR</td>\n",
       "      <td>2016-02-08 06:54:00</td>\n",
       "      <td>39.0</td>\n",
       "      <td>NaN</td>\n",
       "      <td>55.0</td>\n",
       "      <td>29.65</td>\n",
       "      <td>10.0</td>\n",
       "      <td>Calm</td>\n",
       "      <td>NaN</td>\n",
       "      <td>NaN</td>\n",
       "      <td>Overcast</td>\n",
       "      <td>False</td>\n",
       "      <td>False</td>\n",
       "      <td>False</td>\n",
       "      <td>False</td>\n",
       "      <td>False</td>\n",
       "      <td>False</td>\n",
       "      <td>False</td>\n",
       "      <td>False</td>\n",
       "      <td>False</td>\n",
       "      <td>False</td>\n",
       "      <td>False</td>\n",
       "      <td>False</td>\n",
       "      <td>False</td>\n",
       "      <td>Night</td>\n",
       "      <td>Night</td>\n",
       "      <td>Day</td>\n",
       "      <td>Day</td>\n",
       "    </tr>\n",
       "  </tbody>\n",
       "</table>\n",
       "</div>"
      ],
      "text/plain": [
       "          ID  Severity           Start_Time             End_Time  Start_Lat  \\\n",
       "0  A-2716600         3  2016-02-08 00:37:08  2016-02-08 06:37:08   40.10891   \n",
       "1  A-2716601         2  2016-02-08 05:56:20  2016-02-08 11:56:20   39.86542   \n",
       "2  A-2716602         2  2016-02-08 06:15:39  2016-02-08 12:15:39   39.10266   \n",
       "3  A-2716603         2  2016-02-08 06:15:39  2016-02-08 12:15:39   39.10148   \n",
       "4  A-2716604         2  2016-02-08 06:51:45  2016-02-08 12:51:45   41.06213   \n",
       "\n",
       "   Start_Lng   End_Lat   End_Lng  Distance(mi)  \\\n",
       "0  -83.09286  40.11206 -83.03187         3.230   \n",
       "1  -84.06280  39.86501 -84.04873         0.747   \n",
       "2  -84.52468  39.10209 -84.52396         0.055   \n",
       "3  -84.52341  39.09841 -84.52241         0.219   \n",
       "4  -81.53784  41.06217 -81.53547         0.123   \n",
       "\n",
       "                                         Description  Number       Street  \\\n",
       "0  Between Sawmill Rd/Exit 20 and OH-315/Olentang...     NaN  Outerbelt E   \n",
       "1                 At OH-4/OH-235/Exit 41 - Accident.     NaN       I-70 E   \n",
       "2                   At I-71/US-50/Exit 1 - Accident.     NaN       I-75 S   \n",
       "3                   At I-71/US-50/Exit 1 - Accident.     NaN      US-50 E   \n",
       "4                    At Dart Ave/Exit 21 - Accident.     NaN       I-77 N   \n",
       "\n",
       "  Side        City      County State Zipcode Country    Timezone Airport_Code  \\\n",
       "0    R      Dublin    Franklin    OH   43017      US  US/Eastern         KOSU   \n",
       "1    R      Dayton  Montgomery    OH   45424      US  US/Eastern         KFFO   \n",
       "2    R  Cincinnati    Hamilton    OH   45203      US  US/Eastern         KLUK   \n",
       "3    R  Cincinnati    Hamilton    OH   45202      US  US/Eastern         KLUK   \n",
       "4    R       Akron      Summit    OH   44311      US  US/Eastern         KAKR   \n",
       "\n",
       "     Weather_Timestamp  Temperature(F)  Wind_Chill(F)  Humidity(%)  \\\n",
       "0  2016-02-08 00:53:00            42.1           36.1         58.0   \n",
       "1  2016-02-08 05:58:00            36.9            NaN         91.0   \n",
       "2  2016-02-08 05:53:00            36.0            NaN         97.0   \n",
       "3  2016-02-08 05:53:00            36.0            NaN         97.0   \n",
       "4  2016-02-08 06:54:00            39.0            NaN         55.0   \n",
       "\n",
       "   Pressure(in)  Visibility(mi) Wind_Direction  Wind_Speed(mph)  \\\n",
       "0         29.76            10.0             SW             10.4   \n",
       "1         29.68            10.0           Calm              NaN   \n",
       "2         29.70            10.0           Calm              NaN   \n",
       "3         29.70            10.0           Calm              NaN   \n",
       "4         29.65            10.0           Calm              NaN   \n",
       "\n",
       "   Precipitation(in) Weather_Condition  Amenity   Bump  Crossing  Give_Way  \\\n",
       "0               0.00        Light Rain    False  False     False     False   \n",
       "1               0.02        Light Rain    False  False     False     False   \n",
       "2               0.02          Overcast    False  False     False     False   \n",
       "3               0.02          Overcast    False  False     False     False   \n",
       "4                NaN          Overcast    False  False     False     False   \n",
       "\n",
       "   Junction  No_Exit  Railway  Roundabout  Station   Stop  Traffic_Calming  \\\n",
       "0     False    False    False       False    False  False            False   \n",
       "1     False    False    False       False    False  False            False   \n",
       "2      True    False    False       False    False  False            False   \n",
       "3      True    False    False       False    False  False            False   \n",
       "4     False    False    False       False    False  False            False   \n",
       "\n",
       "   Traffic_Signal  Turning_Loop Sunrise_Sunset Civil_Twilight  \\\n",
       "0           False         False          Night          Night   \n",
       "1           False         False          Night          Night   \n",
       "2           False         False          Night          Night   \n",
       "3           False         False          Night          Night   \n",
       "4           False         False          Night          Night   \n",
       "\n",
       "  Nautical_Twilight Astronomical_Twilight  \n",
       "0             Night                 Night  \n",
       "1             Night                 Night  \n",
       "2             Night                   Day  \n",
       "3             Night                   Day  \n",
       "4               Day                   Day  "
      ]
     },
     "execution_count": 37,
     "metadata": {},
     "output_type": "execute_result"
    }
   ],
   "source": [
    "df.head()"
   ]
  },
  {
   "cell_type": "markdown",
   "id": "d893e007",
   "metadata": {},
   "source": [
    "# How many are null?"
   ]
  },
  {
   "cell_type": "code",
   "execution_count": 38,
   "id": "ff503aaa",
   "metadata": {
    "scrolled": false
   },
   "outputs": [
    {
     "data": {
      "text/plain": [
       "ID                             0\n",
       "Severity                       0\n",
       "Start_Time                     0\n",
       "End_Time                       0\n",
       "Start_Lat                      0\n",
       "Start_Lng                      0\n",
       "End_Lat                        0\n",
       "End_Lng                        0\n",
       "Distance(mi)                   0\n",
       "Description                    0\n",
       "Number                   1046095\n",
       "Street                         0\n",
       "Side                           0\n",
       "City                          83\n",
       "County                         0\n",
       "State                          0\n",
       "Zipcode                      935\n",
       "Country                        0\n",
       "Timezone                    2302\n",
       "Airport_Code                4248\n",
       "Weather_Timestamp          30264\n",
       "Temperature(F)             43033\n",
       "Wind_Chill(F)             449316\n",
       "Humidity(%)                45509\n",
       "Pressure(in)               36274\n",
       "Visibility(mi)             44211\n",
       "Wind_Direction             41858\n",
       "Wind_Speed(mph)           128862\n",
       "Precipitation(in)         510549\n",
       "Weather_Condition          44007\n",
       "Amenity                        0\n",
       "Bump                           0\n",
       "Crossing                       0\n",
       "Give_Way                       0\n",
       "Junction                       0\n",
       "No_Exit                        0\n",
       "Railway                        0\n",
       "Roundabout                     0\n",
       "Station                        0\n",
       "Stop                           0\n",
       "Traffic_Calming                0\n",
       "Traffic_Signal                 0\n",
       "Turning_Loop                   0\n",
       "Sunrise_Sunset                83\n",
       "Civil_Twilight                83\n",
       "Nautical_Twilight             83\n",
       "Astronomical_Twilight         83\n",
       "dtype: int64"
      ]
     },
     "execution_count": 38,
     "metadata": {},
     "output_type": "execute_result"
    }
   ],
   "source": [
    "df.isnull().sum()"
   ]
  },
  {
   "cell_type": "markdown",
   "id": "1a87fac1",
   "metadata": {},
   "source": [
    "# How many null by percent"
   ]
  },
  {
   "cell_type": "code",
   "execution_count": 39,
   "id": "7e4b92cc",
   "metadata": {},
   "outputs": [
    {
     "data": {
      "text/plain": [
       "Number                   69.000715\n",
       "Precipitation(in)        33.675953\n",
       "Wind_Chill(F)            29.637007\n",
       "Wind_Speed(mph)           8.499773\n",
       "Humidity(%)               3.001786\n",
       "Visibility(mi)            2.916170\n",
       "Weather_Condition         2.902714\n",
       "Temperature(F)            2.838469\n",
       "Wind_Direction            2.760965\n",
       "Pressure(in)              2.392643\n",
       "Weather_Timestamp         1.996222\n",
       "Airport_Code              0.280199\n",
       "Timezone                  0.151841\n",
       "Zipcode                   0.061673\n",
       "Sunrise_Sunset            0.005475\n",
       "Civil_Twilight            0.005475\n",
       "Nautical_Twilight         0.005475\n",
       "Astronomical_Twilight     0.005475\n",
       "City                      0.005475\n",
       "Country                   0.000000\n",
       "Give_Way                  0.000000\n",
       "Start_Time                0.000000\n",
       "End_Time                  0.000000\n",
       "Start_Lat                 0.000000\n",
       "Turning_Loop              0.000000\n",
       "Traffic_Signal            0.000000\n",
       "Traffic_Calming           0.000000\n",
       "Stop                      0.000000\n",
       "Station                   0.000000\n",
       "Roundabout                0.000000\n",
       "Railway                   0.000000\n",
       "No_Exit                   0.000000\n",
       "Junction                  0.000000\n",
       "Crossing                  0.000000\n",
       "State                     0.000000\n",
       "Bump                      0.000000\n",
       "Amenity                   0.000000\n",
       "Start_Lng                 0.000000\n",
       "End_Lat                   0.000000\n",
       "End_Lng                   0.000000\n",
       "Distance(mi)              0.000000\n",
       "Description               0.000000\n",
       "Street                    0.000000\n",
       "Severity                  0.000000\n",
       "Side                      0.000000\n",
       "County                    0.000000\n",
       "ID                        0.000000\n",
       "dtype: float64"
      ]
     },
     "execution_count": 39,
     "metadata": {},
     "output_type": "execute_result"
    }
   ],
   "source": [
    "(df.isnull().sum()/len(df)*100).sort_values(ascending=False)"
   ]
  },
  {
   "cell_type": "markdown",
   "id": "35e99a92",
   "metadata": {},
   "source": [
    "# How many unique values?"
   ]
  },
  {
   "cell_type": "code",
   "execution_count": 40,
   "id": "ef32470d",
   "metadata": {
    "scrolled": false
   },
   "outputs": [
    {
     "data": {
      "text/plain": [
       "ID                       1516064\n",
       "Severity                       4\n",
       "Start_Time               1037092\n",
       "End_Time                 1161415\n",
       "Start_Lat                 590611\n",
       "Start_Lng                 603369\n",
       "End_Lat                   587824\n",
       "End_Lng                   599916\n",
       "Distance(mi)               11514\n",
       "Description               527655\n",
       "Number                     37592\n",
       "Street                     93048\n",
       "Side                           2\n",
       "City                       10657\n",
       "County                      1671\n",
       "State                         49\n",
       "Zipcode                   177196\n",
       "Country                        1\n",
       "Timezone                       4\n",
       "Airport_Code                1985\n",
       "Weather_Timestamp         331748\n",
       "Temperature(F)               775\n",
       "Wind_Chill(F)                883\n",
       "Humidity(%)                  100\n",
       "Pressure(in)                1007\n",
       "Visibility(mi)                74\n",
       "Wind_Direction                24\n",
       "Wind_Speed(mph)              121\n",
       "Precipitation(in)            187\n",
       "Weather_Condition            116\n",
       "Amenity                        2\n",
       "Bump                           2\n",
       "Crossing                       2\n",
       "Give_Way                       2\n",
       "Junction                       2\n",
       "No_Exit                        2\n",
       "Railway                        2\n",
       "Roundabout                     2\n",
       "Station                        2\n",
       "Stop                           2\n",
       "Traffic_Calming                2\n",
       "Traffic_Signal                 2\n",
       "Turning_Loop                   1\n",
       "Sunrise_Sunset                 2\n",
       "Civil_Twilight                 2\n",
       "Nautical_Twilight              2\n",
       "Astronomical_Twilight          2\n",
       "dtype: int64"
      ]
     },
     "execution_count": 40,
     "metadata": {},
     "output_type": "execute_result"
    }
   ],
   "source": [
    "df.nunique()"
   ]
  },
  {
   "cell_type": "markdown",
   "id": "3ea2fa01",
   "metadata": {},
   "source": [
    "# For numeric columns show mean, std, min, max, percentiles"
   ]
  },
  {
   "cell_type": "code",
   "execution_count": 41,
   "id": "5771f41a",
   "metadata": {},
   "outputs": [
    {
     "data": {
      "text/html": [
       "<div>\n",
       "<style scoped>\n",
       "    .dataframe tbody tr th:only-of-type {\n",
       "        vertical-align: middle;\n",
       "    }\n",
       "\n",
       "    .dataframe tbody tr th {\n",
       "        vertical-align: top;\n",
       "    }\n",
       "\n",
       "    .dataframe thead th {\n",
       "        text-align: right;\n",
       "    }\n",
       "</style>\n",
       "<table border=\"1\" class=\"dataframe\">\n",
       "  <thead>\n",
       "    <tr style=\"text-align: right;\">\n",
       "      <th></th>\n",
       "      <th>Severity</th>\n",
       "      <th>Start_Lat</th>\n",
       "      <th>Start_Lng</th>\n",
       "      <th>End_Lat</th>\n",
       "      <th>End_Lng</th>\n",
       "      <th>Distance(mi)</th>\n",
       "      <th>Number</th>\n",
       "      <th>Temperature(F)</th>\n",
       "      <th>Wind_Chill(F)</th>\n",
       "      <th>Humidity(%)</th>\n",
       "      <th>Pressure(in)</th>\n",
       "      <th>Visibility(mi)</th>\n",
       "      <th>Wind_Speed(mph)</th>\n",
       "      <th>Precipitation(in)</th>\n",
       "    </tr>\n",
       "  </thead>\n",
       "  <tbody>\n",
       "    <tr>\n",
       "      <th>count</th>\n",
       "      <td>1516064.00</td>\n",
       "      <td>1516064.00</td>\n",
       "      <td>1516064.00</td>\n",
       "      <td>1516064.00</td>\n",
       "      <td>1516064.00</td>\n",
       "      <td>1516064.00</td>\n",
       "      <td>469969.00</td>\n",
       "      <td>1473031.00</td>\n",
       "      <td>1066748.00</td>\n",
       "      <td>1470555.00</td>\n",
       "      <td>1479790.00</td>\n",
       "      <td>1471853.00</td>\n",
       "      <td>1387202.00</td>\n",
       "      <td>1005515.00</td>\n",
       "    </tr>\n",
       "    <tr>\n",
       "      <th>mean</th>\n",
       "      <td>2.24</td>\n",
       "      <td>36.90</td>\n",
       "      <td>-98.60</td>\n",
       "      <td>36.90</td>\n",
       "      <td>-98.60</td>\n",
       "      <td>0.59</td>\n",
       "      <td>8907.53</td>\n",
       "      <td>59.58</td>\n",
       "      <td>55.11</td>\n",
       "      <td>64.66</td>\n",
       "      <td>29.55</td>\n",
       "      <td>9.13</td>\n",
       "      <td>7.63</td>\n",
       "      <td>0.01</td>\n",
       "    </tr>\n",
       "    <tr>\n",
       "      <th>std</th>\n",
       "      <td>0.61</td>\n",
       "      <td>5.17</td>\n",
       "      <td>18.50</td>\n",
       "      <td>5.17</td>\n",
       "      <td>18.50</td>\n",
       "      <td>1.63</td>\n",
       "      <td>22421.90</td>\n",
       "      <td>18.27</td>\n",
       "      <td>21.13</td>\n",
       "      <td>23.26</td>\n",
       "      <td>1.02</td>\n",
       "      <td>2.89</td>\n",
       "      <td>5.64</td>\n",
       "      <td>0.13</td>\n",
       "    </tr>\n",
       "    <tr>\n",
       "      <th>min</th>\n",
       "      <td>1.00</td>\n",
       "      <td>24.57</td>\n",
       "      <td>-124.50</td>\n",
       "      <td>24.57</td>\n",
       "      <td>-124.50</td>\n",
       "      <td>0.00</td>\n",
       "      <td>0.00</td>\n",
       "      <td>-89.00</td>\n",
       "      <td>-89.00</td>\n",
       "      <td>1.00</td>\n",
       "      <td>0.00</td>\n",
       "      <td>0.00</td>\n",
       "      <td>0.00</td>\n",
       "      <td>0.00</td>\n",
       "    </tr>\n",
       "    <tr>\n",
       "      <th>25%</th>\n",
       "      <td>2.00</td>\n",
       "      <td>33.85</td>\n",
       "      <td>-118.21</td>\n",
       "      <td>33.85</td>\n",
       "      <td>-118.21</td>\n",
       "      <td>0.00</td>\n",
       "      <td>1212.00</td>\n",
       "      <td>47.00</td>\n",
       "      <td>40.80</td>\n",
       "      <td>48.00</td>\n",
       "      <td>29.44</td>\n",
       "      <td>10.00</td>\n",
       "      <td>4.60</td>\n",
       "      <td>0.00</td>\n",
       "    </tr>\n",
       "    <tr>\n",
       "      <th>50%</th>\n",
       "      <td>2.00</td>\n",
       "      <td>37.35</td>\n",
       "      <td>-94.38</td>\n",
       "      <td>37.35</td>\n",
       "      <td>-94.38</td>\n",
       "      <td>0.18</td>\n",
       "      <td>4000.00</td>\n",
       "      <td>61.00</td>\n",
       "      <td>57.00</td>\n",
       "      <td>68.00</td>\n",
       "      <td>29.88</td>\n",
       "      <td>10.00</td>\n",
       "      <td>7.00</td>\n",
       "      <td>0.00</td>\n",
       "    </tr>\n",
       "    <tr>\n",
       "      <th>75%</th>\n",
       "      <td>2.00</td>\n",
       "      <td>40.73</td>\n",
       "      <td>-80.87</td>\n",
       "      <td>40.73</td>\n",
       "      <td>-80.87</td>\n",
       "      <td>0.59</td>\n",
       "      <td>10100.00</td>\n",
       "      <td>73.00</td>\n",
       "      <td>71.00</td>\n",
       "      <td>84.00</td>\n",
       "      <td>30.04</td>\n",
       "      <td>10.00</td>\n",
       "      <td>10.40</td>\n",
       "      <td>0.00</td>\n",
       "    </tr>\n",
       "    <tr>\n",
       "      <th>max</th>\n",
       "      <td>4.00</td>\n",
       "      <td>49.00</td>\n",
       "      <td>-67.11</td>\n",
       "      <td>49.08</td>\n",
       "      <td>-67.11</td>\n",
       "      <td>155.19</td>\n",
       "      <td>9999997.00</td>\n",
       "      <td>170.60</td>\n",
       "      <td>113.00</td>\n",
       "      <td>100.00</td>\n",
       "      <td>58.04</td>\n",
       "      <td>140.00</td>\n",
       "      <td>984.00</td>\n",
       "      <td>24.00</td>\n",
       "    </tr>\n",
       "  </tbody>\n",
       "</table>\n",
       "</div>"
      ],
      "text/plain": [
       "         Severity   Start_Lat   Start_Lng     End_Lat     End_Lng  \\\n",
       "count  1516064.00  1516064.00  1516064.00  1516064.00  1516064.00   \n",
       "mean         2.24       36.90      -98.60       36.90      -98.60   \n",
       "std          0.61        5.17       18.50        5.17       18.50   \n",
       "min          1.00       24.57     -124.50       24.57     -124.50   \n",
       "25%          2.00       33.85     -118.21       33.85     -118.21   \n",
       "50%          2.00       37.35      -94.38       37.35      -94.38   \n",
       "75%          2.00       40.73      -80.87       40.73      -80.87   \n",
       "max          4.00       49.00      -67.11       49.08      -67.11   \n",
       "\n",
       "      Distance(mi)      Number Temperature(F) Wind_Chill(F) Humidity(%)  \\\n",
       "count   1516064.00   469969.00     1473031.00    1066748.00  1470555.00   \n",
       "mean          0.59     8907.53          59.58         55.11       64.66   \n",
       "std           1.63    22421.90          18.27         21.13       23.26   \n",
       "min           0.00        0.00         -89.00        -89.00        1.00   \n",
       "25%           0.00     1212.00          47.00         40.80       48.00   \n",
       "50%           0.18     4000.00          61.00         57.00       68.00   \n",
       "75%           0.59    10100.00          73.00         71.00       84.00   \n",
       "max         155.19  9999997.00         170.60        113.00      100.00   \n",
       "\n",
       "      Pressure(in) Visibility(mi) Wind_Speed(mph) Precipitation(in)  \n",
       "count   1479790.00     1471853.00      1387202.00        1005515.00  \n",
       "mean         29.55           9.13            7.63              0.01  \n",
       "std           1.02           2.89            5.64              0.13  \n",
       "min           0.00           0.00            0.00              0.00  \n",
       "25%          29.44          10.00            4.60              0.00  \n",
       "50%          29.88          10.00            7.00              0.00  \n",
       "75%          30.04          10.00           10.40              0.00  \n",
       "max          58.04         140.00          984.00             24.00  "
      ]
     },
     "execution_count": 41,
     "metadata": {},
     "output_type": "execute_result"
    }
   ],
   "source": [
    "df.describe().apply(lambda s: s.apply(\"{0:.2f}\".format)) # Values in scientific notation by default, reformat"
   ]
  },
  {
   "cell_type": "markdown",
   "id": "d859e37d",
   "metadata": {},
   "source": [
    "# Drop columns with only one value"
   ]
  },
  {
   "cell_type": "code",
   "execution_count": 42,
   "id": "5c370705",
   "metadata": {},
   "outputs": [],
   "source": [
    "df.drop([\"Country\", \"Turning_Loop\"], axis = 1, inplace = True)"
   ]
  },
  {
   "cell_type": "markdown",
   "id": "92cf18ba",
   "metadata": {},
   "source": [
    "# Drop columns that aren't useful to us"
   ]
  },
  {
   "cell_type": "code",
   "execution_count": 43,
   "id": "a31ae34d",
   "metadata": {},
   "outputs": [],
   "source": [
    "df.drop([\"ID\", \"Start_Lat\", \"Start_Lng\", \"End_Lat\", \"End_Lng\", \"Description\", \"Number\", \"Street\", \"City\", \"County\", \"Zipcode\", \"Timezone\", \"Airport_Code\", \"Weather_Timestamp\"], axis=1, inplace=True)"
   ]
  },
  {
   "cell_type": "markdown",
   "id": "425bcf44",
   "metadata": {},
   "source": [
    "# Value counts"
   ]
  },
  {
   "cell_type": "code",
   "execution_count": 44,
   "id": "5e6af43c",
   "metadata": {
    "scrolled": true
   },
   "outputs": [
    {
     "data": {
      "text/plain": [
       "2    1212382\n",
       "3     161052\n",
       "4     114452\n",
       "1      28178\n",
       "Name: Severity, dtype: int64"
      ]
     },
     "execution_count": 44,
     "metadata": {},
     "output_type": "execute_result"
    }
   ],
   "source": [
    "df.Severity.value_counts()"
   ]
  },
  {
   "cell_type": "markdown",
   "id": "6758fb86",
   "metadata": {},
   "source": [
    "## Note: Most records are from California and Florida"
   ]
  },
  {
   "cell_type": "code",
   "execution_count": 45,
   "id": "86409654",
   "metadata": {
    "scrolled": true
   },
   "outputs": [
    {
     "data": {
      "text/plain": [
       "CA    448833\n",
       "FL    153007\n",
       "OR     87484\n",
       "TX     75142\n",
       "NY     60974\n",
       "MN     52345\n",
       "VA     51198\n",
       "NC     50159\n",
       "PA     42844\n",
       "IL     41709\n",
       "MD     35320\n",
       "UT     33218\n",
       "GA     31111\n",
       "AZ     30185\n",
       "NJ     29850\n",
       "SC     28090\n",
       "MI     27775\n",
       "WA     22999\n",
       "OH     22044\n",
       "TN     21874\n",
       "CO     19809\n",
       "LA     19250\n",
       "MO     16949\n",
       "CT     15194\n",
       "IN     11736\n",
       "AL      9375\n",
       "WI      7919\n",
       "MA      6121\n",
       "KY      5671\n",
       "OK      5592\n",
       "KS      5146\n",
       "IA      4780\n",
       "AR      4373\n",
       "ID      4061\n",
       "NH      3826\n",
       "DC      3788\n",
       "RI      3766\n",
       "NV      3681\n",
       "MT      3306\n",
       "WV      3242\n",
       "MS      2790\n",
       "DE      2331\n",
       "ME      2202\n",
       "NE      2178\n",
       "NM      1467\n",
       "ND       455\n",
       "VT       352\n",
       "WY       330\n",
       "SD       213\n",
       "Name: State, dtype: int64"
      ]
     },
     "execution_count": 45,
     "metadata": {},
     "output_type": "execute_result"
    }
   ],
   "source": [
    "df.State.value_counts()"
   ]
  },
  {
   "cell_type": "code",
   "execution_count": 46,
   "id": "8e4ee64d",
   "metadata": {},
   "outputs": [
    {
     "data": {
      "text/plain": [
       "R    1294562\n",
       "L     221502\n",
       "Name: Side, dtype: int64"
      ]
     },
     "execution_count": 46,
     "metadata": {},
     "output_type": "execute_result"
    }
   ],
   "source": [
    "df.Side.value_counts()"
   ]
  },
  {
   "cell_type": "code",
   "execution_count": 47,
   "id": "d463fe08",
   "metadata": {
    "scrolled": true
   },
   "outputs": [
    {
     "data": {
      "text/plain": [
       "CALM        202870\n",
       "Calm         79192\n",
       "WNW          77743\n",
       "NW           75810\n",
       "W            72059\n",
       "SSW          69901\n",
       "WSW          68504\n",
       "NNW          68014\n",
       "S            67543\n",
       "SW           65626\n",
       "SSE          65058\n",
       "SE           54770\n",
       "N            53718\n",
       "E            52435\n",
       "ESE          51295\n",
       "ENE          51257\n",
       "NE           48355\n",
       "NNE          46509\n",
       "West         40611\n",
       "South        40596\n",
       "VAR          39670\n",
       "North        35568\n",
       "East         24064\n",
       "Variable     23038\n",
       "Name: Wind_Direction, dtype: int64"
      ]
     },
     "execution_count": 47,
     "metadata": {},
     "output_type": "execute_result"
    }
   ],
   "source": [
    "df.Wind_Direction.value_counts()"
   ]
  },
  {
   "cell_type": "markdown",
   "id": "108ea294",
   "metadata": {},
   "source": [
    "## Note: Weather_Condition has many values that only appear a few times or once"
   ]
  },
  {
   "cell_type": "code",
   "execution_count": 48,
   "id": "ae093c18",
   "metadata": {},
   "outputs": [
    {
     "data": {
      "text/plain": [
       "{'Fair': 465252,\n",
       " 'Mostly Cloudy': 193595,\n",
       " 'Clear': 180223,\n",
       " 'Cloudy': 161291,\n",
       " 'Partly Cloudy': 133102,\n",
       " 'Overcast': 87853,\n",
       " 'Light Rain': 72511,\n",
       " 'Scattered Clouds': 47061,\n",
       " 'Light Snow': 22113,\n",
       " 'Fog': 19777,\n",
       " 'Haze': 17706,\n",
       " 'Rain': 17389,\n",
       " 'Fair / Windy': 6631,\n",
       " 'Heavy Rain': 6119,\n",
       " 'Light Drizzle': 4307,\n",
       " 'Mostly Cloudy / Windy': 3612,\n",
       " 'Smoke': 3608,\n",
       " 'Cloudy / Windy': 3300,\n",
       " 'Snow': 2730,\n",
       " 'Partly Cloudy / Windy': 2125,\n",
       " 'Light Rain / Windy': 1845,\n",
       " 'T-Storm': 1516,\n",
       " 'Thunder in the Vicinity': 1275,\n",
       " 'Wintry Mix': 1251,\n",
       " 'Light Rain with Thunder': 1148,\n",
       " 'Light Thunderstorms and Rain': 1130,\n",
       " 'Light Snow / Windy': 1090,\n",
       " 'Thunder': 1083,\n",
       " 'Thunderstorm': 1037,\n",
       " 'Drizzle': 1023,\n",
       " 'Heavy Snow': 771,\n",
       " 'Heavy T-Storm': 723,\n",
       " 'Mist': 719,\n",
       " 'Light Freezing Rain': 706,\n",
       " 'Patches of Fog': 640,\n",
       " 'Shallow Fog': 541,\n",
       " 'Thunderstorms and Rain': 526,\n",
       " 'Heavy Thunderstorms and Rain': 523,\n",
       " 'Rain / Windy': 488,\n",
       " 'N/A Precipitation': 403,\n",
       " 'Light Freezing Fog': 395,\n",
       " 'Heavy Rain / Windy': 307,\n",
       " 'Showers in the Vicinity': 288,\n",
       " 'Snow / Windy': 250,\n",
       " 'Haze / Windy': 235,\n",
       " 'Light Freezing Drizzle': 220,\n",
       " 'Blowing Snow': 144,\n",
       " 'Heavy Snow / Windy': 106,\n",
       " 'Fog / Windy': 94,\n",
       " 'Heavy Drizzle': 92,\n",
       " 'Light Rain Shower': 86,\n",
       " 'Blowing Dust / Windy': 79,\n",
       " 'Blowing Dust': 78,\n",
       " 'Light Ice Pellets': 77,\n",
       " 'Heavy T-Storm / Windy': 73,\n",
       " 'T-Storm / Windy': 72,\n",
       " 'Light Drizzle / Windy': 63,\n",
       " 'Blowing Snow / Windy': 63,\n",
       " 'Smoke / Windy': 47,\n",
       " 'Light Rain Showers': 44,\n",
       " 'Thunder / Windy': 43,\n",
       " 'Drizzle and Fog': 43,\n",
       " 'Widespread Dust': 43,\n",
       " 'Ice Pellets': 36,\n",
       " 'Rain Showers': 30,\n",
       " 'Wintry Mix / Windy': 30,\n",
       " 'Partial Fog': 26,\n",
       " 'Squalls / Windy': 21,\n",
       " 'Sleet': 21,\n",
       " 'Snow and Sleet': 20,\n",
       " 'Freezing Rain': 18,\n",
       " 'Snow and Sleet / Windy': 18,\n",
       " 'Rain Shower': 14,\n",
       " 'Light Freezing Rain / Windy': 13,\n",
       " 'Light Sleet': 11,\n",
       " 'Small Hail': 9,\n",
       " 'Sand / Dust Whirlwinds': 7,\n",
       " 'Squalls': 7,\n",
       " 'Light Rain Shower / Windy': 6,\n",
       " 'Light Thunderstorms and Snow': 6,\n",
       " 'Light Snow Showers': 6,\n",
       " 'Patches of Fog / Windy': 5,\n",
       " 'Heavy Snow with Thunder': 4,\n",
       " 'Volcanic Ash': 4,\n",
       " 'Thunder / Wintry Mix / Windy': 4,\n",
       " 'Light Snow and Sleet / Windy': 4,\n",
       " 'Light Sleet / Windy': 4,\n",
       " 'Light Snow and Sleet': 3,\n",
       " 'Heavy Rain Shower': 3,\n",
       " 'Heavy Thunderstorms and Snow': 3,\n",
       " 'Drizzle / Windy': 3,\n",
       " 'Snow Grains': 3,\n",
       " 'Light Snow with Thunder': 3,\n",
       " 'Light Snow Shower': 2,\n",
       " 'Tornado': 2,\n",
       " 'Heavy Ice Pellets': 2,\n",
       " 'Light Blowing Snow': 2,\n",
       " 'Funnel Cloud': 2,\n",
       " 'Freezing Drizzle': 2,\n",
       " 'Sand': 2,\n",
       " 'Heavy Freezing Drizzle': 1,\n",
       " 'Drifting Snow': 1,\n",
       " 'Light Fog': 1,\n",
       " 'Freezing Rain / Windy': 1,\n",
       " 'Sand / Dust Whirls Nearby': 1,\n",
       " 'Hail': 1,\n",
       " 'Thunder and Hail': 1,\n",
       " 'Sleet / Windy': 1,\n",
       " 'Light Haze': 1,\n",
       " 'Mist / Windy': 1,\n",
       " 'Low Drifting Snow': 1,\n",
       " 'Heavy Blowing Snow': 1,\n",
       " 'Thunder and Hail / Windy': 1,\n",
       " 'Dust Whirls': 1,\n",
       " 'Heavy Thunderstorms with Small Hail': 1,\n",
       " 'Heavy Rain Showers': 1}"
      ]
     },
     "execution_count": 48,
     "metadata": {},
     "output_type": "execute_result"
    }
   ],
   "source": [
    "dict(df.Weather_Condition.value_counts())"
   ]
  },
  {
   "cell_type": "code",
   "execution_count": 49,
   "id": "249a700b",
   "metadata": {},
   "outputs": [
    {
     "name": "stdout",
     "output_type": "stream",
     "text": [
      "False    1503661\n",
      "True       12403\n",
      "Name: Amenity, dtype: int64\n",
      "\n",
      "False    1515803\n",
      "True         261\n",
      "Name: Bump, dtype: int64\n",
      "\n",
      "False    1429681\n",
      "True       86383\n",
      "Name: Crossing, dtype: int64\n",
      "\n",
      "False    1512809\n",
      "True        3255\n",
      "Name: Give_Way, dtype: int64\n",
      "\n",
      "False    1311566\n",
      "True      204498\n",
      "Name: Junction, dtype: int64\n",
      "\n",
      "False    1514335\n",
      "True        1729\n",
      "Name: No_Exit, dtype: int64\n",
      "\n",
      "False    1503480\n",
      "True       12584\n",
      "Name: Railway, dtype: int64\n",
      "\n",
      "False    1516013\n",
      "True          51\n",
      "Name: Roundabout, dtype: int64\n",
      "\n",
      "False    1487917\n",
      "True       28147\n",
      "Name: Station, dtype: int64\n",
      "\n",
      "False    1498368\n",
      "True       17696\n",
      "Name: Stop, dtype: int64\n",
      "\n",
      "False    1515575\n",
      "True         489\n",
      "Name: Traffic_Calming, dtype: int64\n",
      "\n",
      "False    1346095\n",
      "True      169969\n",
      "Name: Traffic_Signal, dtype: int64\n",
      "\n",
      "Day      909838\n",
      "Night    606143\n",
      "Name: Sunrise_Sunset, dtype: int64\n",
      "\n",
      "Day      969075\n",
      "Night    546906\n",
      "Name: Civil_Twilight, dtype: int64\n",
      "\n",
      "Day      1035103\n",
      "Night     480878\n",
      "Name: Nautical_Twilight, dtype: int64\n",
      "\n",
      "Day      1090946\n",
      "Night     425035\n",
      "Name: Astronomical_Twilight, dtype: int64\n"
     ]
    }
   ],
   "source": [
    "print(df.Amenity.value_counts())\n",
    "print()\n",
    "print(df.Bump.value_counts())\n",
    "print()\n",
    "print(df.Crossing.value_counts())\n",
    "print()\n",
    "print(df.Give_Way.value_counts())\n",
    "print()\n",
    "print(df.Junction.value_counts())\n",
    "print()\n",
    "print(df.No_Exit.value_counts())\n",
    "print()\n",
    "print(df.Railway.value_counts())\n",
    "print()\n",
    "print(df.Roundabout.value_counts())\n",
    "print()\n",
    "print(df.Station.value_counts())\n",
    "print()\n",
    "print(df.Stop.value_counts())\n",
    "print()\n",
    "print(df.Traffic_Calming.value_counts())\n",
    "print()\n",
    "print(df.Traffic_Signal.value_counts())\n",
    "print()\n",
    "print(df.Sunrise_Sunset.value_counts())\n",
    "print()\n",
    "print(df.Civil_Twilight.value_counts())\n",
    "print()\n",
    "print(df.Nautical_Twilight.value_counts())\n",
    "print()\n",
    "print(df.Astronomical_Twilight.value_counts())"
   ]
  },
  {
   "cell_type": "markdown",
   "id": "9b66b57e",
   "metadata": {},
   "source": [
    "# Wind_Direction has some values spelled in multiple ways, let's fix that"
   ]
  },
  {
   "cell_type": "code",
   "execution_count": 7,
   "id": "1687e1d9",
   "metadata": {},
   "outputs": [
    {
     "data": {
      "text/plain": [
       "CALM        202870\n",
       "Calm         79192\n",
       "WNW          77743\n",
       "NW           75810\n",
       "W            72059\n",
       "SSW          69901\n",
       "WSW          68504\n",
       "NNW          68014\n",
       "S            67543\n",
       "SW           65626\n",
       "SSE          65058\n",
       "SE           54770\n",
       "N            53718\n",
       "E            52435\n",
       "ESE          51295\n",
       "ENE          51257\n",
       "NE           48355\n",
       "NNE          46509\n",
       "West         40611\n",
       "South        40596\n",
       "VAR          39670\n",
       "North        35568\n",
       "East         24064\n",
       "Variable     23038\n",
       "Name: Wind_Direction, dtype: int64"
      ]
     },
     "execution_count": 7,
     "metadata": {},
     "output_type": "execute_result"
    }
   ],
   "source": [
    "df.Wind_Direction.value_counts()"
   ]
  },
  {
   "cell_type": "code",
   "execution_count": 199,
   "id": "90a88c97",
   "metadata": {},
   "outputs": [
    {
     "data": {
      "text/plain": [
       "Calm        282062\n",
       "West        112670\n",
       "South       108139\n",
       "North        89286\n",
       "WNW          77743\n",
       "East         76499\n",
       "NW           75810\n",
       "SSW          69901\n",
       "WSW          68504\n",
       "NNW          68014\n",
       "SW           65626\n",
       "SSE          65058\n",
       "Variable     62708\n",
       "SE           54770\n",
       "ESE          51295\n",
       "ENE          51257\n",
       "NE           48355\n",
       "NNE          46509\n",
       "Name: Wind_Direction, dtype: int64"
      ]
     },
     "execution_count": 199,
     "metadata": {},
     "output_type": "execute_result"
    }
   ],
   "source": [
    "df.Wind_Direction.replace(\"CALM\", \"Calm\", inplace=True)\n",
    "df.Wind_Direction.replace(\"VAR\", \"Variable\", inplace=True)\n",
    "df.Wind_Direction.replace(\"N\", \"North\", inplace=True)\n",
    "df.Wind_Direction.replace(\"E\", \"East\", inplace=True)\n",
    "df.Wind_Direction.replace(\"S\", \"South\", inplace=True)\n",
    "df.Wind_Direction.replace(\"W\", \"West\", inplace=True)\n",
    "df.Wind_Direction.value_counts()"
   ]
  },
  {
   "cell_type": "markdown",
   "id": "6f8d9bb4",
   "metadata": {},
   "source": [
    "# Let's take a new look at the data"
   ]
  },
  {
   "cell_type": "code",
   "execution_count": 51,
   "id": "56caa514",
   "metadata": {},
   "outputs": [
    {
     "data": {
      "text/plain": [
       "Severity                      0\n",
       "Start_Time                    0\n",
       "End_Time                      0\n",
       "Distance(mi)                  0\n",
       "Side                          0\n",
       "State                         0\n",
       "Temperature(F)            43033\n",
       "Wind_Chill(F)            449316\n",
       "Humidity(%)               45509\n",
       "Pressure(in)              36274\n",
       "Visibility(mi)            44211\n",
       "Wind_Direction            41858\n",
       "Wind_Speed(mph)          128862\n",
       "Precipitation(in)        510549\n",
       "Weather_Condition         44007\n",
       "Amenity                       0\n",
       "Bump                          0\n",
       "Crossing                      0\n",
       "Give_Way                      0\n",
       "Junction                      0\n",
       "No_Exit                       0\n",
       "Railway                       0\n",
       "Roundabout                    0\n",
       "Station                       0\n",
       "Stop                          0\n",
       "Traffic_Calming               0\n",
       "Traffic_Signal                0\n",
       "Sunrise_Sunset               83\n",
       "Civil_Twilight               83\n",
       "Nautical_Twilight            83\n",
       "Astronomical_Twilight        83\n",
       "dtype: int64"
      ]
     },
     "execution_count": 51,
     "metadata": {},
     "output_type": "execute_result"
    }
   ],
   "source": [
    "df.isnull().sum()"
   ]
  },
  {
   "cell_type": "code",
   "execution_count": 52,
   "id": "8463c4cc",
   "metadata": {},
   "outputs": [
    {
     "data": {
      "text/plain": [
       "Precipitation(in)        33.675953\n",
       "Wind_Chill(F)            29.637007\n",
       "Wind_Speed(mph)           8.499773\n",
       "Humidity(%)               3.001786\n",
       "Visibility(mi)            2.916170\n",
       "Weather_Condition         2.902714\n",
       "Temperature(F)            2.838469\n",
       "Wind_Direction            2.760965\n",
       "Pressure(in)              2.392643\n",
       "Astronomical_Twilight     0.005475\n",
       "Sunrise_Sunset            0.005475\n",
       "Civil_Twilight            0.005475\n",
       "Nautical_Twilight         0.005475\n",
       "No_Exit                   0.000000\n",
       "Traffic_Signal            0.000000\n",
       "Traffic_Calming           0.000000\n",
       "Stop                      0.000000\n",
       "Station                   0.000000\n",
       "Roundabout                0.000000\n",
       "Railway                   0.000000\n",
       "Severity                  0.000000\n",
       "Junction                  0.000000\n",
       "Give_Way                  0.000000\n",
       "Crossing                  0.000000\n",
       "Bump                      0.000000\n",
       "Start_Time                0.000000\n",
       "State                     0.000000\n",
       "Side                      0.000000\n",
       "Distance(mi)              0.000000\n",
       "End_Time                  0.000000\n",
       "Amenity                   0.000000\n",
       "dtype: float64"
      ]
     },
     "execution_count": 52,
     "metadata": {},
     "output_type": "execute_result"
    }
   ],
   "source": [
    "(df.isnull().sum()/len(df)*100).sort_values(ascending=False)"
   ]
  },
  {
   "cell_type": "code",
   "execution_count": 53,
   "id": "a35489a6",
   "metadata": {},
   "outputs": [
    {
     "data": {
      "text/plain": [
       "Severity                       4\n",
       "Start_Time               1037092\n",
       "End_Time                 1161415\n",
       "Distance(mi)               11514\n",
       "Side                           2\n",
       "State                         49\n",
       "Temperature(F)               775\n",
       "Wind_Chill(F)                883\n",
       "Humidity(%)                  100\n",
       "Pressure(in)                1007\n",
       "Visibility(mi)                74\n",
       "Wind_Direction                22\n",
       "Wind_Speed(mph)              121\n",
       "Precipitation(in)            187\n",
       "Weather_Condition            116\n",
       "Amenity                        2\n",
       "Bump                           2\n",
       "Crossing                       2\n",
       "Give_Way                       2\n",
       "Junction                       2\n",
       "No_Exit                        2\n",
       "Railway                        2\n",
       "Roundabout                     2\n",
       "Station                        2\n",
       "Stop                           2\n",
       "Traffic_Calming                2\n",
       "Traffic_Signal                 2\n",
       "Sunrise_Sunset                 2\n",
       "Civil_Twilight                 2\n",
       "Nautical_Twilight              2\n",
       "Astronomical_Twilight          2\n",
       "dtype: int64"
      ]
     },
     "execution_count": 53,
     "metadata": {},
     "output_type": "execute_result"
    }
   ],
   "source": [
    "df.nunique()"
   ]
  },
  {
   "cell_type": "code",
   "execution_count": 54,
   "id": "a9ecb22d",
   "metadata": {},
   "outputs": [
    {
     "data": {
      "text/html": [
       "<div>\n",
       "<style scoped>\n",
       "    .dataframe tbody tr th:only-of-type {\n",
       "        vertical-align: middle;\n",
       "    }\n",
       "\n",
       "    .dataframe tbody tr th {\n",
       "        vertical-align: top;\n",
       "    }\n",
       "\n",
       "    .dataframe thead th {\n",
       "        text-align: right;\n",
       "    }\n",
       "</style>\n",
       "<table border=\"1\" class=\"dataframe\">\n",
       "  <thead>\n",
       "    <tr style=\"text-align: right;\">\n",
       "      <th></th>\n",
       "      <th>Severity</th>\n",
       "      <th>Distance(mi)</th>\n",
       "      <th>Temperature(F)</th>\n",
       "      <th>Wind_Chill(F)</th>\n",
       "      <th>Humidity(%)</th>\n",
       "      <th>Pressure(in)</th>\n",
       "      <th>Visibility(mi)</th>\n",
       "      <th>Wind_Speed(mph)</th>\n",
       "      <th>Precipitation(in)</th>\n",
       "    </tr>\n",
       "  </thead>\n",
       "  <tbody>\n",
       "    <tr>\n",
       "      <th>count</th>\n",
       "      <td>1516064.00</td>\n",
       "      <td>1516064.00</td>\n",
       "      <td>1473031.00</td>\n",
       "      <td>1066748.00</td>\n",
       "      <td>1470555.00</td>\n",
       "      <td>1479790.00</td>\n",
       "      <td>1471853.00</td>\n",
       "      <td>1387202.00</td>\n",
       "      <td>1005515.00</td>\n",
       "    </tr>\n",
       "    <tr>\n",
       "      <th>mean</th>\n",
       "      <td>2.24</td>\n",
       "      <td>0.59</td>\n",
       "      <td>59.58</td>\n",
       "      <td>55.11</td>\n",
       "      <td>64.66</td>\n",
       "      <td>29.55</td>\n",
       "      <td>9.13</td>\n",
       "      <td>7.63</td>\n",
       "      <td>0.01</td>\n",
       "    </tr>\n",
       "    <tr>\n",
       "      <th>std</th>\n",
       "      <td>0.61</td>\n",
       "      <td>1.63</td>\n",
       "      <td>18.27</td>\n",
       "      <td>21.13</td>\n",
       "      <td>23.26</td>\n",
       "      <td>1.02</td>\n",
       "      <td>2.89</td>\n",
       "      <td>5.64</td>\n",
       "      <td>0.13</td>\n",
       "    </tr>\n",
       "    <tr>\n",
       "      <th>min</th>\n",
       "      <td>1.00</td>\n",
       "      <td>0.00</td>\n",
       "      <td>-89.00</td>\n",
       "      <td>-89.00</td>\n",
       "      <td>1.00</td>\n",
       "      <td>0.00</td>\n",
       "      <td>0.00</td>\n",
       "      <td>0.00</td>\n",
       "      <td>0.00</td>\n",
       "    </tr>\n",
       "    <tr>\n",
       "      <th>25%</th>\n",
       "      <td>2.00</td>\n",
       "      <td>0.00</td>\n",
       "      <td>47.00</td>\n",
       "      <td>40.80</td>\n",
       "      <td>48.00</td>\n",
       "      <td>29.44</td>\n",
       "      <td>10.00</td>\n",
       "      <td>4.60</td>\n",
       "      <td>0.00</td>\n",
       "    </tr>\n",
       "    <tr>\n",
       "      <th>50%</th>\n",
       "      <td>2.00</td>\n",
       "      <td>0.18</td>\n",
       "      <td>61.00</td>\n",
       "      <td>57.00</td>\n",
       "      <td>68.00</td>\n",
       "      <td>29.88</td>\n",
       "      <td>10.00</td>\n",
       "      <td>7.00</td>\n",
       "      <td>0.00</td>\n",
       "    </tr>\n",
       "    <tr>\n",
       "      <th>75%</th>\n",
       "      <td>2.00</td>\n",
       "      <td>0.59</td>\n",
       "      <td>73.00</td>\n",
       "      <td>71.00</td>\n",
       "      <td>84.00</td>\n",
       "      <td>30.04</td>\n",
       "      <td>10.00</td>\n",
       "      <td>10.40</td>\n",
       "      <td>0.00</td>\n",
       "    </tr>\n",
       "    <tr>\n",
       "      <th>max</th>\n",
       "      <td>4.00</td>\n",
       "      <td>155.19</td>\n",
       "      <td>170.60</td>\n",
       "      <td>113.00</td>\n",
       "      <td>100.00</td>\n",
       "      <td>58.04</td>\n",
       "      <td>140.00</td>\n",
       "      <td>984.00</td>\n",
       "      <td>24.00</td>\n",
       "    </tr>\n",
       "  </tbody>\n",
       "</table>\n",
       "</div>"
      ],
      "text/plain": [
       "         Severity Distance(mi) Temperature(F) Wind_Chill(F) Humidity(%)  \\\n",
       "count  1516064.00   1516064.00     1473031.00    1066748.00  1470555.00   \n",
       "mean         2.24         0.59          59.58         55.11       64.66   \n",
       "std          0.61         1.63          18.27         21.13       23.26   \n",
       "min          1.00         0.00         -89.00        -89.00        1.00   \n",
       "25%          2.00         0.00          47.00         40.80       48.00   \n",
       "50%          2.00         0.18          61.00         57.00       68.00   \n",
       "75%          2.00         0.59          73.00         71.00       84.00   \n",
       "max          4.00       155.19         170.60        113.00      100.00   \n",
       "\n",
       "      Pressure(in) Visibility(mi) Wind_Speed(mph) Precipitation(in)  \n",
       "count   1479790.00     1471853.00      1387202.00        1005515.00  \n",
       "mean         29.55           9.13            7.63              0.01  \n",
       "std           1.02           2.89            5.64              0.13  \n",
       "min           0.00           0.00            0.00              0.00  \n",
       "25%          29.44          10.00            4.60              0.00  \n",
       "50%          29.88          10.00            7.00              0.00  \n",
       "75%          30.04          10.00           10.40              0.00  \n",
       "max          58.04         140.00          984.00             24.00  "
      ]
     },
     "execution_count": 54,
     "metadata": {},
     "output_type": "execute_result"
    }
   ],
   "source": [
    "df.describe().apply(lambda s: s.apply(\"{0:.2f}\".format)) # Values in scientific notation by default, reformat"
   ]
  },
  {
   "cell_type": "markdown",
   "id": "707fa2da",
   "metadata": {},
   "source": [
    "# Let's add a column that specifies the month of the year, day of the week (Monday, Tuesday...), and hour of the day(0-23)"
   ]
  },
  {
   "cell_type": "markdown",
   "id": "67a269df",
   "metadata": {},
   "source": [
    "## First let's convert the time strings to time objects"
   ]
  },
  {
   "cell_type": "code",
   "execution_count": 8,
   "id": "a298457c",
   "metadata": {},
   "outputs": [],
   "source": [
    "df[\"Start_Time\"] = pd.to_datetime(df[\"Start_Time\"], infer_datetime_format=True)\n",
    "df[\"End_Time\"] = pd.to_datetime(df[\"End_Time\"], infer_datetime_format=True)"
   ]
  },
  {
   "cell_type": "code",
   "execution_count": 9,
   "id": "76c96454",
   "metadata": {},
   "outputs": [],
   "source": [
    "df[\"Month_Of_Year\"] = df[\"Start_Time\"].apply(lambda t: t.month)"
   ]
  },
  {
   "cell_type": "code",
   "execution_count": 10,
   "id": "c211369c",
   "metadata": {},
   "outputs": [],
   "source": [
    "df[\"Day_Of_Week\"] = df[\"Start_Time\"].apply(lambda t: t.weekday())"
   ]
  },
  {
   "cell_type": "code",
   "execution_count": 11,
   "id": "6fbfaee7",
   "metadata": {},
   "outputs": [],
   "source": [
    "df[\"Hour_Of_Day\"] = df[\"Start_Time\"].apply(lambda t: t.hour)"
   ]
  },
  {
   "cell_type": "markdown",
   "id": "38cf4a79",
   "metadata": {},
   "source": [
    "# Let's impute Sunrise_Sunset, Civil_Twilight, Nautical_Twilight, Astronomical_Twilight\n",
    "## The possible values are \"Day\" and \"Night\", and they are set depending on their respective definitions of day and night. The time ranges will depend on the location."
   ]
  },
  {
   "cell_type": "markdown",
   "id": "3492152d",
   "metadata": {},
   "source": [
    "## And calculate the time range that's defined as \"day\""
   ]
  },
  {
   "cell_type": "code",
   "execution_count": 59,
   "id": "40594c7d",
   "metadata": {
    "scrolled": true
   },
   "outputs": [
    {
     "name": "stdout",
     "output_type": "stream",
     "text": [
      "0\n"
     ]
    },
    {
     "name": "stderr",
     "output_type": "stream",
     "text": [
      "<ipython-input-59-57f52202868f>:15: UserWarning: Boolean Series key will be reindexed to match DataFrame index.\n",
      "  suns_sunr_min_times[state] = df[df[\"Sunrise_Sunset\"] == \"Day\"][df[\"State\"] == state][\"Start_Time\"].dt.time.min()\n",
      "<ipython-input-59-57f52202868f>:16: UserWarning: Boolean Series key will be reindexed to match DataFrame index.\n",
      "  suns_sunr_max_times[state] = df[df[\"Sunrise_Sunset\"] == \"Day\"][df[\"State\"] == state][\"Start_Time\"].dt.time.max()\n",
      "<ipython-input-59-57f52202868f>:18: UserWarning: Boolean Series key will be reindexed to match DataFrame index.\n",
      "  civ_twi_min_times[state] = df[df[\"Civil_Twilight\"] == \"Day\"][df[\"State\"] == state][\"Start_Time\"].dt.time.min()\n",
      "<ipython-input-59-57f52202868f>:19: UserWarning: Boolean Series key will be reindexed to match DataFrame index.\n",
      "  civ_twi_max_times[state] = df[df[\"Civil_Twilight\"] == \"Day\"][df[\"State\"] == state][\"Start_Time\"].dt.time.max()\n",
      "<ipython-input-59-57f52202868f>:21: UserWarning: Boolean Series key will be reindexed to match DataFrame index.\n",
      "  naut_twi_min_times[state] = df[df[\"Nautical_Twilight\"] == \"Day\"][df[\"State\"] == state][\"Start_Time\"].dt.time.min()\n",
      "<ipython-input-59-57f52202868f>:22: UserWarning: Boolean Series key will be reindexed to match DataFrame index.\n",
      "  naut_twi_max_times[state] = df[df[\"Nautical_Twilight\"] == \"Day\"][df[\"State\"] == state][\"Start_Time\"].dt.time.max()\n",
      "<ipython-input-59-57f52202868f>:24: UserWarning: Boolean Series key will be reindexed to match DataFrame index.\n",
      "  ast_twi_min_times[state] = df[df[\"Astronomical_Twilight\"] == \"Day\"][df[\"State\"] == state][\"Start_Time\"].dt.time.min()\n",
      "<ipython-input-59-57f52202868f>:25: UserWarning: Boolean Series key will be reindexed to match DataFrame index.\n",
      "  ast_twi_max_times[state] = df[df[\"Astronomical_Twilight\"] == \"Day\"][df[\"State\"] == state][\"Start_Time\"].dt.time.max()\n"
     ]
    },
    {
     "name": "stdout",
     "output_type": "stream",
     "text": [
      "1\n",
      "2\n",
      "3\n",
      "4\n",
      "5\n",
      "6\n",
      "7\n",
      "8\n",
      "9\n",
      "10\n",
      "11\n",
      "12\n",
      "13\n",
      "14\n",
      "15\n",
      "16\n",
      "17\n",
      "18\n",
      "19\n",
      "20\n",
      "21\n",
      "22\n",
      "23\n",
      "24\n",
      "25\n",
      "26\n",
      "27\n",
      "28\n",
      "29\n",
      "30\n",
      "31\n",
      "32\n",
      "33\n",
      "34\n",
      "35\n",
      "36\n",
      "37\n",
      "38\n",
      "39\n",
      "40\n",
      "41\n",
      "42\n",
      "43\n",
      "44\n",
      "45\n",
      "46\n",
      "47\n",
      "48\n"
     ]
    }
   ],
   "source": [
    "suns_sunr_min_times = {}\n",
    "suns_sunr_max_times = {}\n",
    "\n",
    "civ_twi_min_times = {}\n",
    "civ_twi_max_times = {}\n",
    "\n",
    "naut_twi_min_times = {}\n",
    "naut_twi_max_times = {}\n",
    "\n",
    "ast_twi_min_times = {}\n",
    "ast_twi_max_times = {}\n",
    "\n",
    "for i, state in enumerate(df[\"State\"].unique()):\n",
    "    print(i)\n",
    "    suns_sunr_min_times[state] = df[df[\"Sunrise_Sunset\"] == \"Day\"][df[\"State\"] == state][\"Start_Time\"].dt.time.min()\n",
    "    suns_sunr_max_times[state] = df[df[\"Sunrise_Sunset\"] == \"Day\"][df[\"State\"] == state][\"Start_Time\"].dt.time.max()\n",
    "    \n",
    "    civ_twi_min_times[state] = df[df[\"Civil_Twilight\"] == \"Day\"][df[\"State\"] == state][\"Start_Time\"].dt.time.min()\n",
    "    civ_twi_max_times[state] = df[df[\"Civil_Twilight\"] == \"Day\"][df[\"State\"] == state][\"Start_Time\"].dt.time.max()\n",
    "    \n",
    "    naut_twi_min_times[state] = df[df[\"Nautical_Twilight\"] == \"Day\"][df[\"State\"] == state][\"Start_Time\"].dt.time.min()\n",
    "    naut_twi_max_times[state] = df[df[\"Nautical_Twilight\"] == \"Day\"][df[\"State\"] == state][\"Start_Time\"].dt.time.max()\n",
    "    \n",
    "    ast_twi_min_times[state] = df[df[\"Astronomical_Twilight\"] == \"Day\"][df[\"State\"] == state][\"Start_Time\"].dt.time.min()\n",
    "    ast_twi_max_times[state] = df[df[\"Astronomical_Twilight\"] == \"Day\"][df[\"State\"] == state][\"Start_Time\"].dt.time.max()"
   ]
  },
  {
   "cell_type": "code",
   "execution_count": 60,
   "id": "fe98c2dc",
   "metadata": {},
   "outputs": [],
   "source": [
    "def is_day(time, stat, day_def):\n",
    "    if day_def == \"Sunrise_Sunset\":\n",
    "        return time > suns_sunr_min_times[state] and time < suns_sunr_max_times[state]\n",
    "    elif day_def == \"Civil_Twilight\":\n",
    "        return time > civ_twi_min_times[state] and time < civ_twi_max_times[state]\n",
    "    elif day_def == \"Nautical_Twilight\":\n",
    "        return time > naut_twi_min_times[state] and time < naut_twi_max_times[state]\n",
    "    elif day_def == \"Astronomical_Twilight\":\n",
    "        return time > ast_twi_min_times[state] and time < ast_twi_max_times[state]"
   ]
  },
  {
   "cell_type": "code",
   "execution_count": 61,
   "id": "bc868fc6",
   "metadata": {},
   "outputs": [],
   "source": [
    "original = df.copy(deep=True)"
   ]
  },
  {
   "cell_type": "markdown",
   "id": "8e605ef8",
   "metadata": {},
   "source": [
    "## And we impute"
   ]
  },
  {
   "cell_type": "code",
   "execution_count": 62,
   "id": "14b900bb",
   "metadata": {},
   "outputs": [],
   "source": [
    "for index, row in df[df[\"Sunrise_Sunset\"].isnull()].iterrows():\n",
    "    time = row[\"Start_Time\"].time()\n",
    "    state = row[\"State\"]\n",
    "    \n",
    "    if is_day(time, state, \"Sunrise_Sunset\"):\n",
    "        df.at[index, \"Sunrise_Sunset\"] = \"Day\"\n",
    "    else:\n",
    "        df.at[index, \"Sunrise_Sunset\"] = \"Night\"\n",
    "    \n",
    "    if is_day(time, state, \"Civil_Twilight\"):\n",
    "         df.at[index, \"Civil_Twilight\"] = \"Day\"\n",
    "    else:\n",
    "        df.at[index, \"Civil_Twilight\"] = \"Night\"\n",
    "        \n",
    "    if is_day(time, state, \"Nautical_Twilight\"):\n",
    "         df.at[index, \"Nautical_Twilight\"] = \"Day\"\n",
    "    else:\n",
    "        df.at[index, \"Nautical_Twilight\"] = \"Night\"\n",
    "        \n",
    "    if is_day(time, state, \"Astronomical_Twilight\"):\n",
    "         df.at[index, \"Astronomical_Twilight\"] = \"Day\"\n",
    "    else:\n",
    "        df.at[index, \"Astronomical_Twilight\"] = \"Night\"\n",
    "    "
   ]
  },
  {
   "cell_type": "markdown",
   "id": "82a86086",
   "metadata": {},
   "source": [
    "## And no more null values!"
   ]
  },
  {
   "cell_type": "code",
   "execution_count": 63,
   "id": "7af75bec",
   "metadata": {
    "scrolled": false
   },
   "outputs": [
    {
     "data": {
      "text/plain": [
       "Sunrise_Sunset           0\n",
       "Civil_Twilight           0\n",
       "Nautical_Twilight        0\n",
       "Astronomical_Twilight    0\n",
       "dtype: int64"
      ]
     },
     "execution_count": 63,
     "metadata": {},
     "output_type": "execute_result"
    }
   ],
   "source": [
    "df.isnull().sum()[[\"Sunrise_Sunset\",\"Civil_Twilight\",\"Nautical_Twilight\",\"Astronomical_Twilight\"]]"
   ]
  },
  {
   "cell_type": "markdown",
   "id": "92ef9bf5",
   "metadata": {},
   "source": [
    "## Finally let's turn them into boolean values"
   ]
  },
  {
   "cell_type": "code",
   "execution_count": 65,
   "id": "6a7b0275",
   "metadata": {},
   "outputs": [],
   "source": [
    "df[\"Sunrise_Sunset\"] = df[\"Sunrise_Sunset\"].apply(lambda x: True if x == \"Day\" else False)\n",
    "df[\"Civil_Twilight\"] = df[\"Civil_Twilight\"].apply(lambda x: True if x == \"Day\" else False)\n",
    "df[\"Nautical_Twilight\"] = df[\"Nautical_Twilight\"].apply(lambda x: True if x == \"Day\" else False)\n",
    "df[\"Astronomical_Twilight\"] = df[\"Astronomical_Twilight\"].apply(lambda x: True if x == \"Day\" else False)"
   ]
  },
  {
   "cell_type": "markdown",
   "id": "0e5b21d6",
   "metadata": {},
   "source": [
    "## Let's also turn side into a boolean variable"
   ]
  },
  {
   "cell_type": "code",
   "execution_count": 67,
   "id": "d66bddde",
   "metadata": {},
   "outputs": [],
   "source": [
    "df[\"Side\"] = df[\"Side\"].apply(lambda x: True if x == \"R\" else False)"
   ]
  },
  {
   "cell_type": "markdown",
   "id": "f357da13",
   "metadata": {},
   "source": [
    "# Let's take a look at the outliers"
   ]
  },
  {
   "cell_type": "markdown",
   "id": "8b2e1d00",
   "metadata": {},
   "source": [
    "## Let's take another look at our data"
   ]
  },
  {
   "cell_type": "code",
   "execution_count": 68,
   "id": "f04d7d52",
   "metadata": {},
   "outputs": [
    {
     "name": "stdout",
     "output_type": "stream",
     "text": [
      "<class 'pandas.core.frame.DataFrame'>\n",
      "RangeIndex: 1516064 entries, 0 to 1516063\n",
      "Data columns (total 34 columns):\n",
      " #   Column                 Non-Null Count    Dtype         \n",
      "---  ------                 --------------    -----         \n",
      " 0   Severity               1516064 non-null  int64         \n",
      " 1   Start_Time             1516064 non-null  datetime64[ns]\n",
      " 2   End_Time               1516064 non-null  datetime64[ns]\n",
      " 3   Distance(mi)           1516064 non-null  float64       \n",
      " 4   Side                   1516064 non-null  bool          \n",
      " 5   State                  1516064 non-null  object        \n",
      " 6   Temperature(F)         1473031 non-null  float64       \n",
      " 7   Wind_Chill(F)          1066748 non-null  float64       \n",
      " 8   Humidity(%)            1470555 non-null  float64       \n",
      " 9   Pressure(in)           1479790 non-null  float64       \n",
      " 10  Visibility(mi)         1471853 non-null  float64       \n",
      " 11  Wind_Direction         1474206 non-null  object        \n",
      " 12  Wind_Speed(mph)        1387202 non-null  float64       \n",
      " 13  Precipitation(in)      1005515 non-null  float64       \n",
      " 14  Weather_Condition      1472057 non-null  object        \n",
      " 15  Amenity                1516064 non-null  bool          \n",
      " 16  Bump                   1516064 non-null  bool          \n",
      " 17  Crossing               1516064 non-null  bool          \n",
      " 18  Give_Way               1516064 non-null  bool          \n",
      " 19  Junction               1516064 non-null  bool          \n",
      " 20  No_Exit                1516064 non-null  bool          \n",
      " 21  Railway                1516064 non-null  bool          \n",
      " 22  Roundabout             1516064 non-null  bool          \n",
      " 23  Station                1516064 non-null  bool          \n",
      " 24  Stop                   1516064 non-null  bool          \n",
      " 25  Traffic_Calming        1516064 non-null  bool          \n",
      " 26  Traffic_Signal         1516064 non-null  bool          \n",
      " 27  Sunrise_Sunset         1516064 non-null  bool          \n",
      " 28  Civil_Twilight         1516064 non-null  bool          \n",
      " 29  Nautical_Twilight      1516064 non-null  bool          \n",
      " 30  Astronomical_Twilight  1516064 non-null  bool          \n",
      " 31  Month_Of_Year          1516064 non-null  int64         \n",
      " 32  Day_Of_Week            1516064 non-null  int64         \n",
      " 33  Hour_Of_Day            1516064 non-null  int64         \n",
      "dtypes: bool(17), datetime64[ns](2), float64(8), int64(4), object(3)\n",
      "memory usage: 221.2+ MB\n"
     ]
    }
   ],
   "source": [
    "df.info()"
   ]
  },
  {
   "cell_type": "code",
   "execution_count": 69,
   "id": "07d0b6e2",
   "metadata": {},
   "outputs": [],
   "source": [
    "df_wo_outliers = df.copy(deep=True)"
   ]
  },
  {
   "cell_type": "markdown",
   "id": "c35b31ca",
   "metadata": {},
   "source": [
    "## Let's look at Distance(mi)"
   ]
  },
  {
   "cell_type": "code",
   "execution_count": 186,
   "id": "c8995b07",
   "metadata": {
    "scrolled": true
   },
   "outputs": [
    {
     "data": {
      "text/plain": [
       "count    1511258.00\n",
       "mean           0.53\n",
       "std            1.00\n",
       "min            0.00\n",
       "25%            0.00\n",
       "50%            0.18\n",
       "75%            0.59\n",
       "max           10.00\n",
       "Name: Distance(mi), dtype: object"
      ]
     },
     "execution_count": 186,
     "metadata": {},
     "output_type": "execute_result"
    }
   ],
   "source": [
    "df_wo_outliers[\"Distance(mi)\"].describe().apply(lambda s: \"{0:.2f}\".format(s)) # Two decimal places"
   ]
  },
  {
   "cell_type": "code",
   "execution_count": 70,
   "id": "07927684",
   "metadata": {
    "scrolled": true
   },
   "outputs": [
    {
     "data": {
      "text/plain": [
       "0.5872617204814575"
      ]
     },
     "execution_count": 70,
     "metadata": {},
     "output_type": "execute_result"
    }
   ],
   "source": [
    "df_wo_outliers[\"Distance(mi)\"].mean()"
   ]
  },
  {
   "cell_type": "code",
   "execution_count": 71,
   "id": "892576dd",
   "metadata": {
    "scrolled": true
   },
   "outputs": [
    {
     "data": {
      "text/plain": [
       "1.632659225341599"
      ]
     },
     "execution_count": 71,
     "metadata": {},
     "output_type": "execute_result"
    }
   ],
   "source": [
    "df_wo_outliers[\"Distance(mi)\"].std()"
   ]
  },
  {
   "cell_type": "code",
   "execution_count": 72,
   "id": "681d4eff",
   "metadata": {
    "scrolled": true
   },
   "outputs": [
    {
     "data": {
      "text/plain": [
       "155.186"
      ]
     },
     "execution_count": 72,
     "metadata": {},
     "output_type": "execute_result"
    }
   ],
   "source": [
    "df_wo_outliers[\"Distance(mi)\"].max()"
   ]
  },
  {
   "cell_type": "markdown",
   "id": "03fecb76",
   "metadata": {},
   "source": [
    "## The max value is many many standard deviations above the mean, however these extreme values are very uncommon"
   ]
  },
  {
   "cell_type": "markdown",
   "id": "e5958d0d",
   "metadata": {},
   "source": [
    "## Let's omit the very uncommon values, let's say distance > 10"
   ]
  },
  {
   "cell_type": "code",
   "execution_count": 73,
   "id": "d6a9ff95",
   "metadata": {},
   "outputs": [
    {
     "data": {
      "text/plain": [
       "{0.0: 1444125,\n",
       " 5.0: 62565,\n",
       " 10.0: 6371,\n",
       " 15.0: 1507,\n",
       " 20.0: 507,\n",
       " 25.0: 294,\n",
       " 30.0: 219,\n",
       " 35.0: 130,\n",
       " 40.0: 111,\n",
       " 45.0: 76,\n",
       " 50.0: 22,\n",
       " 55.0: 11,\n",
       " 60.0: 26,\n",
       " 65.0: 22,\n",
       " 70.0: 17,\n",
       " 75.0: 11,\n",
       " 80.0: 10,\n",
       " 85.0: 3,\n",
       " 90.0: 3,\n",
       " 95.0: 8,\n",
       " 100.0: 4,\n",
       " 105.0: 4,\n",
       " 110.0: 3,\n",
       " 115.0: 4,\n",
       " 130.0: 1,\n",
       " 140.0: 2,\n",
       " 145.0: 1,\n",
       " 150.0: 4,\n",
       " 155.0: 3}"
      ]
     },
     "execution_count": 73,
     "metadata": {},
     "output_type": "execute_result"
    }
   ],
   "source": [
    "dist_value_counts = dict(df_wo_outliers[\"Distance(mi)\"].apply(lambda x: 0 if x < 0 else round(x/5, 0)*5).value_counts())\n",
    "{key:dist_value_counts[key] for key in sorted(dist_value_counts.keys())}"
   ]
  },
  {
   "cell_type": "code",
   "execution_count": 74,
   "id": "88ce837d",
   "metadata": {},
   "outputs": [
    {
     "data": {
      "image/png": "[encoded data removed]",
      "text/plain": [
       "<Figure size 432x288 with 1 Axes>"
      ]
     },
     "metadata": {
      "needs_background": "light"
     },
     "output_type": "display_data"
    }
   ],
   "source": [
    "_ = plt.hist(df_wo_outliers[\"Distance(mi)\"])"
   ]
  },
  {
   "cell_type": "markdown",
   "id": "623f3af3",
   "metadata": {},
   "source": [
    "## The majority of the data is <= 20, let's drop the values that are > 20 (we'll impute them later)"
   ]
  },
  {
   "cell_type": "code",
   "execution_count": 75,
   "id": "99944206",
   "metadata": {},
   "outputs": [],
   "source": [
    "df_wo_outliers.loc[df[\"Distance(mi)\"] > 10, \"Distance(mi)\"] = np.nan"
   ]
  },
  {
   "cell_type": "code",
   "execution_count": 76,
   "id": "6e4c13dd",
   "metadata": {},
   "outputs": [
    {
     "data": {
      "text/plain": [
       "0.0     1068259\n",
       "1.0      308397\n",
       "2.0       67469\n",
       "3.0       30068\n",
       "4.0       14998\n",
       "5.0        8331\n",
       "6.0        5685\n",
       "7.0        3483\n",
       "8.0        2319\n",
       "9.0        1667\n",
       "10.0        582\n",
       "Name: Distance(mi), dtype: int64"
      ]
     },
     "execution_count": 76,
     "metadata": {},
     "output_type": "execute_result"
    }
   ],
   "source": [
    "df_wo_outliers[\"Distance(mi)\"].apply(lambda x: 0 if x < 0 else round(x, 0)).value_counts()"
   ]
  },
  {
   "cell_type": "code",
   "execution_count": 77,
   "id": "8fbe620a",
   "metadata": {},
   "outputs": [
    {
     "data": {
      "text/plain": [
       "4806"
      ]
     },
     "execution_count": 77,
     "metadata": {},
     "output_type": "execute_result"
    }
   ],
   "source": [
    "df_wo_outliers[\"Distance(mi)\"].isnull().sum()"
   ]
  },
  {
   "cell_type": "markdown",
   "id": "9111ef65",
   "metadata": {},
   "source": [
    "## Let's look at Temperature(F)"
   ]
  },
  {
   "cell_type": "code",
   "execution_count": 78,
   "id": "d749c830",
   "metadata": {},
   "outputs": [
    {
     "data": {
      "text/plain": [
       "59.584596793957495"
      ]
     },
     "execution_count": 78,
     "metadata": {},
     "output_type": "execute_result"
    }
   ],
   "source": [
    "df_wo_outliers[\"Temperature(F)\"].mean()"
   ]
  },
  {
   "cell_type": "code",
   "execution_count": 79,
   "id": "48cc9568",
   "metadata": {},
   "outputs": [
    {
     "data": {
      "text/plain": [
       "18.27316380881708"
      ]
     },
     "execution_count": 79,
     "metadata": {},
     "output_type": "execute_result"
    }
   ],
   "source": [
    "df_wo_outliers[\"Temperature(F)\"].std()"
   ]
  },
  {
   "cell_type": "code",
   "execution_count": 80,
   "id": "a7778dfd",
   "metadata": {},
   "outputs": [
    {
     "data": {
      "text/plain": [
       "4.765105367506251"
      ]
     },
     "execution_count": 80,
     "metadata": {},
     "output_type": "execute_result"
    }
   ],
   "source": [
    "# Lower cutoff for outliers (3 SD below mean)\n",
    "df_wo_outliers[\"Temperature(F)\"].mean() - 3*df_wo_outliers[\"Temperature(F)\"].std()"
   ]
  },
  {
   "cell_type": "code",
   "execution_count": 81,
   "id": "5384886c",
   "metadata": {
    "scrolled": true
   },
   "outputs": [
    {
     "data": {
      "text/plain": [
       "114.40408822040874"
      ]
     },
     "execution_count": 81,
     "metadata": {},
     "output_type": "execute_result"
    }
   ],
   "source": [
    "# Upper cutoff for outliers (3 SD above mean)\n",
    "df_wo_outliers[\"Temperature(F)\"].mean() + 3*df_wo_outliers[\"Temperature(F)\"].std()"
   ]
  },
  {
   "cell_type": "code",
   "execution_count": 83,
   "id": "23ce0e13",
   "metadata": {
    "scrolled": false
   },
   "outputs": [
    {
     "data": {
      "text/plain": [
       "{-90.0: 2,\n",
       " -80.0: 1,\n",
       " -60.0: 2,\n",
       " -50.0: 2,\n",
       " -40.0: 1,\n",
       " -30.0: 23,\n",
       " -20.0: 160,\n",
       " -10.0: 935,\n",
       " 0.0: 5418,\n",
       " 10.0: 9559,\n",
       " 20.0: 38383,\n",
       " 30.0: 91650,\n",
       " 40.0: 178378,\n",
       " 50.0: 228687,\n",
       " 60.0: 327468,\n",
       " 70.0: 256393,\n",
       " 80.0: 240781,\n",
       " 90.0: 79271,\n",
       " 100.0: 14697,\n",
       " 110.0: 1188,\n",
       " 120.0: 27,\n",
       " 130.0: 3,\n",
       " 170.0: 2}"
      ]
     },
     "execution_count": 83,
     "metadata": {},
     "output_type": "execute_result"
    }
   ],
   "source": [
    "temp_value_counts = dict(df_wo_outliers[\"Temperature(F)\"].apply(lambda x: round(x/10, 0)*10).value_counts())\n",
    "{key:temp_value_counts[key] for key in sorted(temp_value_counts.keys())}"
   ]
  },
  {
   "cell_type": "code",
   "execution_count": 84,
   "id": "bdd57a88",
   "metadata": {},
   "outputs": [
    {
     "name": "stderr",
     "output_type": "stream",
     "text": [
      "/home/luay/.local/lib/python3.8/site-packages/numpy/lib/histograms.py:839: RuntimeWarning: invalid value encountered in greater_equal\n",
      "  keep = (tmp_a >= first_edge)\n",
      "/home/luay/.local/lib/python3.8/site-packages/numpy/lib/histograms.py:840: RuntimeWarning: invalid value encountered in less_equal\n",
      "  keep &= (tmp_a <= last_edge)\n"
     ]
    },
    {
     "data": {
      "image/png": "[encoded data removed]",
      "text/plain": [
       "<Figure size 432x288 with 1 Axes>"
      ]
     },
     "metadata": {
      "needs_background": "light"
     },
     "output_type": "display_data"
    }
   ],
   "source": [
    "_ = plt.hist(df_wo_outliers[\"Temperature(F)\"])"
   ]
  },
  {
   "cell_type": "code",
   "execution_count": 85,
   "id": "b2f6da2c",
   "metadata": {},
   "outputs": [],
   "source": [
    "df_wo_outliers.loc[(df[\"Temperature(F)\"] - df[\"Temperature(F)\"].mean()).abs() > (3*df[\"Temperature(F)\"].std()), \"Temperature(F)\"] = np.nan"
   ]
  },
  {
   "cell_type": "markdown",
   "id": "39939099",
   "metadata": {},
   "source": [
    "## Let's look at Wind_Chill(F)"
   ]
  },
  {
   "cell_type": "code",
   "execution_count": 86,
   "id": "021448a2",
   "metadata": {},
   "outputs": [
    {
     "data": {
      "text/plain": [
       "55.10976003704716"
      ]
     },
     "execution_count": 86,
     "metadata": {},
     "output_type": "execute_result"
    }
   ],
   "source": [
    "df_wo_outliers[\"Wind_Chill(F)\"].mean()"
   ]
  },
  {
   "cell_type": "code",
   "execution_count": 87,
   "id": "36e300e8",
   "metadata": {},
   "outputs": [
    {
     "data": {
      "text/plain": [
       "21.12734531154636"
      ]
     },
     "execution_count": 87,
     "metadata": {},
     "output_type": "execute_result"
    }
   ],
   "source": [
    "df_wo_outliers[\"Wind_Chill(F)\"].std()"
   ]
  },
  {
   "cell_type": "code",
   "execution_count": 88,
   "id": "b32b64f1",
   "metadata": {},
   "outputs": [
    {
     "data": {
      "text/plain": [
       "-8.272275897591918"
      ]
     },
     "execution_count": 88,
     "metadata": {},
     "output_type": "execute_result"
    }
   ],
   "source": [
    "# Lower cutoff for outliers (3 SD below mean)\n",
    "df_wo_outliers[\"Wind_Chill(F)\"].mean() - 3*df_wo_outliers[\"Wind_Chill(F)\"].std()"
   ]
  },
  {
   "cell_type": "code",
   "execution_count": 89,
   "id": "0d370564",
   "metadata": {},
   "outputs": [
    {
     "data": {
      "text/plain": [
       "118.49179597168623"
      ]
     },
     "execution_count": 89,
     "metadata": {},
     "output_type": "execute_result"
    }
   ],
   "source": [
    "# Upper cutoff for outliers (3 SD above mean)\n",
    "df_wo_outliers[\"Wind_Chill(F)\"].mean() + 3*df_wo_outliers[\"Wind_Chill(F)\"].std()"
   ]
  },
  {
   "cell_type": "code",
   "execution_count": 90,
   "id": "c83cbcbd",
   "metadata": {},
   "outputs": [
    {
     "data": {
      "text/plain": [
       "{-90.0: 2,\n",
       " -80.0: 2,\n",
       " -70.0: 1,\n",
       " -60.0: 3,\n",
       " -50.0: 47,\n",
       " -40.0: 83,\n",
       " -30.0: 371,\n",
       " -20.0: 2754,\n",
       " -10.0: 4516,\n",
       " 0.0: 9442,\n",
       " 10.0: 22808,\n",
       " 20.0: 56588,\n",
       " 30.0: 92129,\n",
       " 40.0: 149334,\n",
       " 50.0: 132276,\n",
       " 60.0: 226808,\n",
       " 70.0: 166550,\n",
       " 80.0: 149356,\n",
       " 90.0: 44322,\n",
       " 100.0: 8876,\n",
       " 110.0: 480}"
      ]
     },
     "execution_count": 90,
     "metadata": {},
     "output_type": "execute_result"
    }
   ],
   "source": [
    "wind_value_counts = dict(df_wo_outliers[\"Wind_Chill(F)\"].apply(lambda x: round(x/10, 0)*10).value_counts())\n",
    "{key:wind_value_counts[key] for key in sorted(wind_value_counts.keys())}"
   ]
  },
  {
   "cell_type": "code",
   "execution_count": 91,
   "id": "69771828",
   "metadata": {},
   "outputs": [
    {
     "name": "stderr",
     "output_type": "stream",
     "text": [
      "/home/luay/.local/lib/python3.8/site-packages/numpy/lib/histograms.py:839: RuntimeWarning: invalid value encountered in greater_equal\n",
      "  keep = (tmp_a >= first_edge)\n",
      "/home/luay/.local/lib/python3.8/site-packages/numpy/lib/histograms.py:840: RuntimeWarning: invalid value encountered in less_equal\n",
      "  keep &= (tmp_a <= last_edge)\n"
     ]
    },
    {
     "data": {
      "image/png": "[encoded data removed]",
      "text/plain": [
       "<Figure size 432x288 with 1 Axes>"
      ]
     },
     "metadata": {
      "needs_background": "light"
     },
     "output_type": "display_data"
    }
   ],
   "source": [
    "_ = plt.hist(df_wo_outliers[\"Wind_Chill(F)\"])"
   ]
  },
  {
   "cell_type": "code",
   "execution_count": 92,
   "id": "800442a4",
   "metadata": {},
   "outputs": [],
   "source": [
    "df_wo_outliers.loc[(df[\"Wind_Chill(F)\"] - df[\"Wind_Chill(F)\"].mean()).abs() > (3*df[\"Wind_Chill(F)\"].std()), \"Wind_Chill(F)\"] = np.nan"
   ]
  },
  {
   "cell_type": "markdown",
   "id": "105328fd",
   "metadata": {},
   "source": [
    "## Let's look at Humidity(%)"
   ]
  },
  {
   "cell_type": "code",
   "execution_count": 93,
   "id": "dce6bb0d",
   "metadata": {},
   "outputs": [
    {
     "data": {
      "text/plain": [
       "64.65960130698954"
      ]
     },
     "execution_count": 93,
     "metadata": {},
     "output_type": "execute_result"
    }
   ],
   "source": [
    "df_wo_outliers[\"Humidity(%)\"].mean()"
   ]
  },
  {
   "cell_type": "code",
   "execution_count": 94,
   "id": "1df7d6bb",
   "metadata": {},
   "outputs": [
    {
     "data": {
      "text/plain": [
       "23.25986461964904"
      ]
     },
     "execution_count": 94,
     "metadata": {},
     "output_type": "execute_result"
    }
   ],
   "source": [
    "df_wo_outliers[\"Humidity(%)\"].std()"
   ]
  },
  {
   "cell_type": "code",
   "execution_count": 95,
   "id": "30f10477",
   "metadata": {},
   "outputs": [
    {
     "data": {
      "text/plain": [
       "-5.11999255195758"
      ]
     },
     "execution_count": 95,
     "metadata": {},
     "output_type": "execute_result"
    }
   ],
   "source": [
    "# Lower cutoff for outliers (3 SD below mean)\n",
    "df_wo_outliers[\"Humidity(%)\"].mean() - 3*df_wo_outliers[\"Humidity(%)\"].std()"
   ]
  },
  {
   "cell_type": "code",
   "execution_count": 96,
   "id": "71066d2e",
   "metadata": {},
   "outputs": [
    {
     "data": {
      "text/plain": [
       "134.43919516593667"
      ]
     },
     "execution_count": 96,
     "metadata": {},
     "output_type": "execute_result"
    }
   ],
   "source": [
    "# Upper cutoff for outliers (3 SD above mean)\n",
    "df_wo_outliers[\"Humidity(%)\"].mean() + 3*df_wo_outliers[\"Humidity(%)\"].std()"
   ]
  },
  {
   "cell_type": "markdown",
   "id": "2ab722ac",
   "metadata": {},
   "source": [
    "## There are no outliers"
   ]
  },
  {
   "cell_type": "code",
   "execution_count": 97,
   "id": "47f3d8b9",
   "metadata": {
    "scrolled": true
   },
   "outputs": [
    {
     "data": {
      "text/plain": [
       "{0.0: 2315,\n",
       " 10.0: 29643,\n",
       " 20.0: 68679,\n",
       " 30.0: 84690,\n",
       " 40.0: 142890,\n",
       " 50.0: 150205,\n",
       " 60.0: 214252,\n",
       " 70.0: 190916,\n",
       " 80.0: 243587,\n",
       " 90.0: 241680,\n",
       " 100.0: 101698}"
      ]
     },
     "execution_count": 97,
     "metadata": {},
     "output_type": "execute_result"
    }
   ],
   "source": [
    "humidity_value_counts = dict(df_wo_outliers[\"Humidity(%)\"].apply(lambda x: round(x/10, 0)*10).value_counts())\n",
    "{key:humidity_value_counts[key] for key in sorted(humidity_value_counts.keys())}"
   ]
  },
  {
   "cell_type": "code",
   "execution_count": 98,
   "id": "1dbce497",
   "metadata": {},
   "outputs": [
    {
     "name": "stderr",
     "output_type": "stream",
     "text": [
      "/home/luay/.local/lib/python3.8/site-packages/numpy/lib/histograms.py:839: RuntimeWarning: invalid value encountered in greater_equal\n",
      "  keep = (tmp_a >= first_edge)\n",
      "/home/luay/.local/lib/python3.8/site-packages/numpy/lib/histograms.py:840: RuntimeWarning: invalid value encountered in less_equal\n",
      "  keep &= (tmp_a <= last_edge)\n"
     ]
    },
    {
     "data": {
      "image/png": "[encoded data removed]",
      "text/plain": [
       "<Figure size 432x288 with 1 Axes>"
      ]
     },
     "metadata": {
      "needs_background": "light"
     },
     "output_type": "display_data"
    }
   ],
   "source": [
    "_ = plt.hist(df_wo_outliers[\"Humidity(%)\"])"
   ]
  },
  {
   "cell_type": "markdown",
   "id": "544c5271",
   "metadata": {},
   "source": [
    "## Let's look at Pressure(in)"
   ]
  },
  {
   "cell_type": "code",
   "execution_count": 99,
   "id": "ac55f9df",
   "metadata": {},
   "outputs": [
    {
     "data": {
      "text/plain": [
       "29.554954405692698"
      ]
     },
     "execution_count": 99,
     "metadata": {},
     "output_type": "execute_result"
    }
   ],
   "source": [
    "df_wo_outliers[\"Pressure(in)\"].mean()"
   ]
  },
  {
   "cell_type": "code",
   "execution_count": 100,
   "id": "c90908f7",
   "metadata": {},
   "outputs": [
    {
     "data": {
      "text/plain": [
       "1.0167561753685441"
      ]
     },
     "execution_count": 100,
     "metadata": {},
     "output_type": "execute_result"
    }
   ],
   "source": [
    "df_wo_outliers[\"Pressure(in)\"].std()"
   ]
  },
  {
   "cell_type": "code",
   "execution_count": 101,
   "id": "dc2fac7f",
   "metadata": {},
   "outputs": [
    {
     "data": {
      "text/plain": [
       "26.504685879587065"
      ]
     },
     "execution_count": 101,
     "metadata": {},
     "output_type": "execute_result"
    }
   ],
   "source": [
    "# Lower cutoff for outliers (3 SD below mean)\n",
    "df_wo_outliers[\"Pressure(in)\"].mean() - 3*df_wo_outliers[\"Pressure(in)\"].std()"
   ]
  },
  {
   "cell_type": "code",
   "execution_count": 102,
   "id": "8c9fe6cd",
   "metadata": {},
   "outputs": [
    {
     "data": {
      "text/plain": [
       "32.60522293179833"
      ]
     },
     "execution_count": 102,
     "metadata": {},
     "output_type": "execute_result"
    }
   ],
   "source": [
    "# Upper cutoff for outliers (3 SD above mean)\n",
    "df_wo_outliers[\"Pressure(in)\"].mean() + 3*df_wo_outliers[\"Pressure(in)\"].std()"
   ]
  },
  {
   "cell_type": "code",
   "execution_count": 103,
   "id": "438193ea",
   "metadata": {},
   "outputs": [
    {
     "data": {
      "text/plain": [
       "{0.0: 8, 20.0: 16596, 30.0: 1463179, 40.0: 4, 60.0: 3}"
      ]
     },
     "execution_count": 103,
     "metadata": {},
     "output_type": "execute_result"
    }
   ],
   "source": [
    "pressure_value_counts = dict(df_wo_outliers[\"Pressure(in)\"].apply(lambda x: round(x/10, 0)*10).value_counts())\n",
    "{key:pressure_value_counts[key] for key in sorted(pressure_value_counts.keys())}"
   ]
  },
  {
   "cell_type": "code",
   "execution_count": 104,
   "id": "cff1f00f",
   "metadata": {},
   "outputs": [
    {
     "data": {
      "image/png": "[encoded data removed]",
      "text/plain": [
       "<Figure size 432x288 with 1 Axes>"
      ]
     },
     "metadata": {
      "needs_background": "light"
     },
     "output_type": "display_data"
    }
   ],
   "source": [
    "_ = plt.hist(df_wo_outliers[\"Pressure(in)\"])"
   ]
  },
  {
   "cell_type": "code",
   "execution_count": 105,
   "id": "52bd6aac",
   "metadata": {},
   "outputs": [],
   "source": [
    "df_wo_outliers.loc[(df[\"Pressure(in)\"] - df[\"Pressure(in)\"].mean()).abs() > (3*df[\"Pressure(in)\"].std()), \"Pressure(in)\"] = np.nan"
   ]
  },
  {
   "cell_type": "markdown",
   "id": "7b8a502f",
   "metadata": {},
   "source": [
    "## Let's look at Visibility(mi)"
   ]
  },
  {
   "cell_type": "code",
   "execution_count": 106,
   "id": "eda715ff",
   "metadata": {},
   "outputs": [
    {
     "data": {
      "text/plain": [
       "9.131755052984236"
      ]
     },
     "execution_count": 106,
     "metadata": {},
     "output_type": "execute_result"
    }
   ],
   "source": [
    "df_wo_outliers[\"Visibility(mi)\"].mean()"
   ]
  },
  {
   "cell_type": "code",
   "execution_count": 107,
   "id": "8c4a4cfa",
   "metadata": {},
   "outputs": [
    {
     "data": {
      "text/plain": [
       "2.8891122761548256"
      ]
     },
     "execution_count": 107,
     "metadata": {},
     "output_type": "execute_result"
    }
   ],
   "source": [
    "df_wo_outliers[\"Visibility(mi)\"].std()"
   ]
  },
  {
   "cell_type": "code",
   "execution_count": 108,
   "id": "2f9b824e",
   "metadata": {},
   "outputs": [
    {
     "data": {
      "text/plain": [
       "0.46441822451975945"
      ]
     },
     "execution_count": 108,
     "metadata": {},
     "output_type": "execute_result"
    }
   ],
   "source": [
    "# Lower cutoff for outliers (3 SD below mean)\n",
    "df_wo_outliers[\"Visibility(mi)\"].mean() - 3*df_wo_outliers[\"Visibility(mi)\"].std()"
   ]
  },
  {
   "cell_type": "code",
   "execution_count": 109,
   "id": "7997b0ce",
   "metadata": {},
   "outputs": [
    {
     "data": {
      "text/plain": [
       "17.79909188144871"
      ]
     },
     "execution_count": 109,
     "metadata": {},
     "output_type": "execute_result"
    }
   ],
   "source": [
    "# Upper cutoff for outliers (3 SD above mean)\n",
    "df_wo_outliers[\"Visibility(mi)\"].mean() + 3*df_wo_outliers[\"Visibility(mi)\"].std()"
   ]
  },
  {
   "cell_type": "code",
   "execution_count": 110,
   "id": "4fef90c4",
   "metadata": {},
   "outputs": [
    {
     "data": {
      "text/plain": [
       "{0.0: 147065,\n",
       " 10.0: 1318891,\n",
       " 20.0: 2611,\n",
       " 30.0: 1154,\n",
       " 40.0: 1004,\n",
       " 50.0: 815,\n",
       " 60.0: 80,\n",
       " 70.0: 92,\n",
       " 80.0: 120,\n",
       " 90.0: 5,\n",
       " 100.0: 7,\n",
       " 110.0: 2,\n",
       " 120.0: 5,\n",
       " 130.0: 1,\n",
       " 140.0: 1}"
      ]
     },
     "execution_count": 110,
     "metadata": {},
     "output_type": "execute_result"
    }
   ],
   "source": [
    "visibility_value_counts = dict(df_wo_outliers[\"Visibility(mi)\"].apply(lambda x: round(x/10, 0)*10).value_counts())\n",
    "{key:visibility_value_counts[key] for key in sorted(visibility_value_counts.keys())}"
   ]
  },
  {
   "cell_type": "code",
   "execution_count": 111,
   "id": "42c11a11",
   "metadata": {},
   "outputs": [
    {
     "name": "stderr",
     "output_type": "stream",
     "text": [
      "/home/luay/.local/lib/python3.8/site-packages/numpy/lib/histograms.py:839: RuntimeWarning: invalid value encountered in greater_equal\n",
      "  keep = (tmp_a >= first_edge)\n",
      "/home/luay/.local/lib/python3.8/site-packages/numpy/lib/histograms.py:840: RuntimeWarning: invalid value encountered in less_equal\n",
      "  keep &= (tmp_a <= last_edge)\n"
     ]
    },
    {
     "data": {
      "image/png": "[encoded data removed]",
      "text/plain": [
       "<Figure size 432x288 with 1 Axes>"
      ]
     },
     "metadata": {
      "needs_background": "light"
     },
     "output_type": "display_data"
    }
   ],
   "source": [
    "_ = plt.hist(df_wo_outliers[\"Visibility(mi)\"])"
   ]
  },
  {
   "cell_type": "code",
   "execution_count": 112,
   "id": "c0881c6c",
   "metadata": {},
   "outputs": [],
   "source": [
    "df_wo_outliers.loc[(df[\"Visibility(mi)\"] - df[\"Visibility(mi)\"].mean()).abs() > (3*df[\"Visibility(mi)\"].std()), \"Visibility(mi)\"] = np.nan"
   ]
  },
  {
   "cell_type": "markdown",
   "id": "efbf5eef",
   "metadata": {},
   "source": [
    "## Let's look at Wind_Speed(mph)"
   ]
  },
  {
   "cell_type": "code",
   "execution_count": 113,
   "id": "32894020",
   "metadata": {},
   "outputs": [
    {
     "data": {
      "text/plain": [
       "7.630812455576046"
      ]
     },
     "execution_count": 113,
     "metadata": {},
     "output_type": "execute_result"
    }
   ],
   "source": [
    "df_wo_outliers[\"Wind_Speed(mph)\"].mean()"
   ]
  },
  {
   "cell_type": "code",
   "execution_count": 114,
   "id": "5cbcae14",
   "metadata": {},
   "outputs": [
    {
     "data": {
      "text/plain": [
       "5.637364271546946"
      ]
     },
     "execution_count": 114,
     "metadata": {},
     "output_type": "execute_result"
    }
   ],
   "source": [
    "df_wo_outliers[\"Wind_Speed(mph)\"].std()"
   ]
  },
  {
   "cell_type": "code",
   "execution_count": 115,
   "id": "642bba8e",
   "metadata": {},
   "outputs": [
    {
     "data": {
      "text/plain": [
       "-9.281280359064791"
      ]
     },
     "execution_count": 115,
     "metadata": {},
     "output_type": "execute_result"
    }
   ],
   "source": [
    "# Lower cutoff for outliers (3 SD below mean)\n",
    "df_wo_outliers[\"Wind_Speed(mph)\"].mean() - 3*df_wo_outliers[\"Wind_Speed(mph)\"].std()"
   ]
  },
  {
   "cell_type": "code",
   "execution_count": 116,
   "id": "671e38d2",
   "metadata": {},
   "outputs": [
    {
     "data": {
      "text/plain": [
       "24.54290527021688"
      ]
     },
     "execution_count": 116,
     "metadata": {},
     "output_type": "execute_result"
    }
   ],
   "source": [
    "# Upper cutoff for outliers (3 SD above mean)\n",
    "df_wo_outliers[\"Wind_Speed(mph)\"].mean() + 3*df_wo_outliers[\"Wind_Speed(mph)\"].std()"
   ]
  },
  {
   "cell_type": "code",
   "execution_count": 117,
   "id": "d0b65baa",
   "metadata": {},
   "outputs": [
    {
     "data": {
      "text/plain": [
       "{0.0: 489488,\n",
       " 10.0: 749210,\n",
       " 20.0: 141374,\n",
       " 30.0: 6395,\n",
       " 40.0: 633,\n",
       " 50.0: 35,\n",
       " 60.0: 16,\n",
       " 80.0: 1,\n",
       " 90.0: 1,\n",
       " 100.0: 11,\n",
       " 110.0: 2,\n",
       " 120.0: 2,\n",
       " 130.0: 16,\n",
       " 140.0: 4,\n",
       " 160.0: 1,\n",
       " 170.0: 4,\n",
       " 210.0: 1,\n",
       " 230.0: 1,\n",
       " 250.0: 1,\n",
       " 470.0: 1,\n",
       " 520.0: 2,\n",
       " 820.0: 2,\n",
       " 980.0: 1}"
      ]
     },
     "execution_count": 117,
     "metadata": {},
     "output_type": "execute_result"
    }
   ],
   "source": [
    "wind_speed_value_counts = dict(df_wo_outliers[\"Wind_Speed(mph)\"].apply(lambda x: round(x/10, 0)*10).value_counts())\n",
    "{key:wind_speed_value_counts[key] for key in sorted(wind_speed_value_counts.keys())}"
   ]
  },
  {
   "cell_type": "code",
   "execution_count": 118,
   "id": "b31aabfe",
   "metadata": {},
   "outputs": [
    {
     "name": "stderr",
     "output_type": "stream",
     "text": [
      "/home/luay/.local/lib/python3.8/site-packages/numpy/lib/histograms.py:839: RuntimeWarning: invalid value encountered in greater_equal\n",
      "  keep = (tmp_a >= first_edge)\n",
      "/home/luay/.local/lib/python3.8/site-packages/numpy/lib/histograms.py:840: RuntimeWarning: invalid value encountered in less_equal\n",
      "  keep &= (tmp_a <= last_edge)\n"
     ]
    },
    {
     "data": {
      "image/png": "[encoded data removed]",
      "text/plain": [
       "<Figure size 432x288 with 1 Axes>"
      ]
     },
     "metadata": {
      "needs_background": "light"
     },
     "output_type": "display_data"
    }
   ],
   "source": [
    "_ = plt.hist(df_wo_outliers[\"Wind_Speed(mph)\"])"
   ]
  },
  {
   "cell_type": "code",
   "execution_count": 119,
   "id": "1c3659d5",
   "metadata": {},
   "outputs": [],
   "source": [
    "df_wo_outliers.loc[(df[\"Wind_Speed(mph)\"] - df[\"Wind_Speed(mph)\"].mean()).abs() > (3*df[\"Wind_Speed(mph)\"].std()), \"Wind_Speed(mph)\"] = np.nan"
   ]
  },
  {
   "cell_type": "markdown",
   "id": "722f7571",
   "metadata": {},
   "source": [
    "## Let's look at Precipitation(in)"
   ]
  },
  {
   "cell_type": "code",
   "execution_count": 120,
   "id": "47ba2495",
   "metadata": {},
   "outputs": [
    {
     "data": {
      "text/plain": [
       "0.008477854631706142"
      ]
     },
     "execution_count": 120,
     "metadata": {},
     "output_type": "execute_result"
    }
   ],
   "source": [
    "df_wo_outliers[\"Precipitation(in)\"].mean()"
   ]
  },
  {
   "cell_type": "code",
   "execution_count": 121,
   "id": "79674c92",
   "metadata": {},
   "outputs": [
    {
     "data": {
      "text/plain": [
       "0.1293168123914193"
      ]
     },
     "execution_count": 121,
     "metadata": {},
     "output_type": "execute_result"
    }
   ],
   "source": [
    "df_wo_outliers[\"Precipitation(in)\"].std()"
   ]
  },
  {
   "cell_type": "code",
   "execution_count": 122,
   "id": "a64d8811",
   "metadata": {},
   "outputs": [
    {
     "data": {
      "text/plain": [
       "-0.37947258254255173"
      ]
     },
     "execution_count": 122,
     "metadata": {},
     "output_type": "execute_result"
    }
   ],
   "source": [
    "# Lower cutoff for outliers (3 SD below mean)\n",
    "df_wo_outliers[\"Precipitation(in)\"].mean() - 3*df_wo_outliers[\"Precipitation(in)\"].std()"
   ]
  },
  {
   "cell_type": "code",
   "execution_count": 123,
   "id": "324a36a5",
   "metadata": {},
   "outputs": [
    {
     "data": {
      "text/plain": [
       "0.396428291805964"
      ]
     },
     "execution_count": 123,
     "metadata": {},
     "output_type": "execute_result"
    }
   ],
   "source": [
    "# Upper cutoff for outliers (3 SD above mean)\n",
    "df_wo_outliers[\"Precipitation(in)\"].mean() + 3*df_wo_outliers[\"Precipitation(in)\"].std()"
   ]
  },
  {
   "cell_type": "code",
   "execution_count": 124,
   "id": "4f743430",
   "metadata": {},
   "outputs": [
    {
     "data": {
      "text/plain": [
       "{0.0: 964277,\n",
       " 0.1: 29748,\n",
       " 0.2: 6296,\n",
       " 0.3: 2465,\n",
       " 0.4: 984,\n",
       " 0.5: 608,\n",
       " 0.6: 328,\n",
       " 0.7: 193,\n",
       " 0.8: 174,\n",
       " 0.9: 67,\n",
       " 1.0: 96,\n",
       " 1.1: 38,\n",
       " 1.2: 34,\n",
       " 1.3: 17,\n",
       " 1.4: 18,\n",
       " 1.5: 13,\n",
       " 1.6: 5,\n",
       " 1.7: 5,\n",
       " 1.8: 1,\n",
       " 1.9: 4,\n",
       " 2.0: 5,\n",
       " 2.1: 1,\n",
       " 2.2: 2,\n",
       " 2.3: 2,\n",
       " 2.7: 1,\n",
       " 8.8: 1,\n",
       " 9.6: 2,\n",
       " 9.7: 1,\n",
       " 9.8: 3,\n",
       " 9.9: 19,\n",
       " 10.0: 102,\n",
       " 10.1: 1,\n",
       " 24.0: 4}"
      ]
     },
     "execution_count": 124,
     "metadata": {},
     "output_type": "execute_result"
    }
   ],
   "source": [
    "precipitation_value_counts = dict(df_wo_outliers[\"Precipitation(in)\"].apply(lambda x: round(x, 1)).value_counts())\n",
    "{key:precipitation_value_counts[key] for key in sorted(precipitation_value_counts.keys())}"
   ]
  },
  {
   "cell_type": "code",
   "execution_count": 125,
   "id": "025b137e",
   "metadata": {},
   "outputs": [
    {
     "name": "stderr",
     "output_type": "stream",
     "text": [
      "/home/luay/.local/lib/python3.8/site-packages/numpy/lib/histograms.py:839: RuntimeWarning: invalid value encountered in greater_equal\n",
      "  keep = (tmp_a >= first_edge)\n",
      "/home/luay/.local/lib/python3.8/site-packages/numpy/lib/histograms.py:840: RuntimeWarning: invalid value encountered in less_equal\n",
      "  keep &= (tmp_a <= last_edge)\n"
     ]
    },
    {
     "data": {
      "image/png": "[encoded data removed]",
      "text/plain": [
       "<Figure size 432x288 with 1 Axes>"
      ]
     },
     "metadata": {
      "needs_background": "light"
     },
     "output_type": "display_data"
    }
   ],
   "source": [
    "_ = plt.hist(df_wo_outliers[\"Precipitation(in)\"])"
   ]
  },
  {
   "cell_type": "code",
   "execution_count": 126,
   "id": "bdf02afb",
   "metadata": {},
   "outputs": [],
   "source": [
    "df_wo_outliers.loc[(df[\"Precipitation(in)\"] - df[\"Precipitation(in)\"].mean()).abs() > (3*df[\"Precipitation(in)\"].std()), \"Precipitation(in)\"] = np.nan"
   ]
  },
  {
   "cell_type": "markdown",
   "id": "3030b276",
   "metadata": {},
   "source": [
    "# Let's impute the rest"
   ]
  },
  {
   "cell_type": "code",
   "execution_count": 129,
   "id": "a0a37639",
   "metadata": {},
   "outputs": [],
   "source": [
    "df_tmp = df_wo_outliers.copy(deep=True)\n",
    "df_tmp.drop([\"Start_Time\", \"End_Time\"], axis=1, inplace=True) # Aren't useful for imputation\n",
    "df_tmp.drop([\"State\", \"Wind_Direction\", \"Weather_Condition\"], axis=1, inplace=True) # Are strings"
   ]
  },
  {
   "cell_type": "code",
   "execution_count": 130,
   "id": "ab04f8bd",
   "metadata": {},
   "outputs": [
    {
     "name": "stderr",
     "output_type": "stream",
     "text": [
      "/home/luay/.local/lib/python3.8/site-packages/sklearn/impute/_iterative.py:685: ConvergenceWarning: [IterativeImputer] Early stopping criterion not reached.\n",
      "  warnings.warn(\"[IterativeImputer] Early stopping criterion not\"\n"
     ]
    }
   ],
   "source": [
    "imputer = IterativeImputer(max_iter=20, random_state=0)\n",
    "imputed_data = imputer.fit_transform(df_tmp)"
   ]
  },
  {
   "cell_type": "code",
   "execution_count": 131,
   "id": "d7e2a337",
   "metadata": {},
   "outputs": [],
   "source": [
    "df_imputed = pd.DataFrame(imputed_data)\n",
    "df_imputed.columns = df_tmp.columns"
   ]
  },
  {
   "cell_type": "markdown",
   "id": "2f9e81f6",
   "metadata": {},
   "source": [
    "## Restore dropped columns"
   ]
  },
  {
   "cell_type": "code",
   "execution_count": 132,
   "id": "1a38a960",
   "metadata": {},
   "outputs": [],
   "source": [
    "df_imputed[\"Start_Time\"] = df_wo_outliers[\"Start_Time\"]\n",
    "df_imputed[\"End_Time\"] = df_wo_outliers[\"End_Time\"]\n",
    "df_imputed[\"State\"] = df_wo_outliers[\"State\"]\n",
    "df_imputed[\"Wind_Direction\"] = df_wo_outliers[\"Wind_Direction\"]\n",
    "df_imputed[\"Weather_Condition\"] = df_wo_outliers[\"Weather_Condition\"]"
   ]
  },
  {
   "cell_type": "markdown",
   "id": "17f3b62e",
   "metadata": {},
   "source": [
    "## Distance is at least 0"
   ]
  },
  {
   "cell_type": "code",
   "execution_count": 197,
   "id": "4b6fef38",
   "metadata": {},
   "outputs": [],
   "source": [
    "df_imputed[\"Distance(mi)\"] = df_imputed[\"Distance(mi)\"].apply(lambda x: 0.0 if x < 0 else x)"
   ]
  },
  {
   "cell_type": "markdown",
   "id": "cfdf97a4",
   "metadata": {},
   "source": [
    "## Humidity is a percent so ensure it doesn't exceed 100%"
   ]
  },
  {
   "cell_type": "code",
   "execution_count": 191,
   "id": "63a82be5",
   "metadata": {},
   "outputs": [],
   "source": [
    "df_imputed[\"Humidity(%)\"] = df_imputed[\"Humidity(%)\"].apply(lambda x: 100.0 if x > 100 else x)"
   ]
  },
  {
   "cell_type": "markdown",
   "id": "9ecd83c2",
   "metadata": {},
   "source": [
    "## Precipitation(in) is always >= zero"
   ]
  },
  {
   "cell_type": "code",
   "execution_count": 193,
   "id": "34a8135f",
   "metadata": {},
   "outputs": [],
   "source": [
    "df_imputed[\"Precipitation(in)\"] = df_imputed[\"Precipitation(in)\"].apply(lambda x: 0.0 if x < 0 else x)"
   ]
  },
  {
   "cell_type": "markdown",
   "id": "2057fb98",
   "metadata": {},
   "source": [
    "## Visibility is at least 0"
   ]
  },
  {
   "cell_type": "code",
   "execution_count": 195,
   "id": "70cf639f",
   "metadata": {},
   "outputs": [],
   "source": [
    "df_imputed[\"Visibility(mi)\"] = df_imputed[\"Visibility(mi)\"].apply(lambda x: 0.0 if x < 0 else x)"
   ]
  },
  {
   "cell_type": "code",
   "execution_count": 133,
   "id": "308a1b48",
   "metadata": {},
   "outputs": [],
   "source": [
    "df_imputed.to_csv(\"US_Accidents_Dec20_updated_cleaned_imputed_before_imputing_categorical.csv\", index=False, header=True)"
   ]
  },
  {
   "cell_type": "markdown",
   "id": "a72cfaac",
   "metadata": {},
   "source": [
    "## Awesome!"
   ]
  },
  {
   "cell_type": "code",
   "execution_count": 134,
   "id": "003bfc2d",
   "metadata": {},
   "outputs": [
    {
     "data": {
      "text/plain": [
       "Severity                     0\n",
       "Distance(mi)                 0\n",
       "Side                         0\n",
       "Temperature(F)               0\n",
       "Wind_Chill(F)                0\n",
       "Humidity(%)                  0\n",
       "Pressure(in)                 0\n",
       "Visibility(mi)               0\n",
       "Wind_Speed(mph)              0\n",
       "Precipitation(in)            0\n",
       "Amenity                      0\n",
       "Bump                         0\n",
       "Crossing                     0\n",
       "Give_Way                     0\n",
       "Junction                     0\n",
       "No_Exit                      0\n",
       "Railway                      0\n",
       "Roundabout                   0\n",
       "Station                      0\n",
       "Stop                         0\n",
       "Traffic_Calming              0\n",
       "Traffic_Signal               0\n",
       "Sunrise_Sunset               0\n",
       "Civil_Twilight               0\n",
       "Nautical_Twilight            0\n",
       "Astronomical_Twilight        0\n",
       "Month_Of_Year                0\n",
       "Day_Of_Week                  0\n",
       "Hour_Of_Day                  0\n",
       "Start_Time                   0\n",
       "End_Time                     0\n",
       "State                        0\n",
       "Wind_Direction           41858\n",
       "Weather_Condition        44007\n",
       "dtype: int64"
      ]
     },
     "execution_count": 134,
     "metadata": {},
     "output_type": "execute_result"
    }
   ],
   "source": [
    "df_imputed.isnull().sum()"
   ]
  },
  {
   "cell_type": "markdown",
   "id": "0f2f2ed9",
   "metadata": {},
   "source": [
    "# Let's impute the categorical values"
   ]
  },
  {
   "cell_type": "markdown",
   "id": "ffd2e774",
   "metadata": {},
   "source": [
    "## First the Weather_Condition column"
   ]
  },
  {
   "cell_type": "markdown",
   "id": "4542f201",
   "metadata": {},
   "source": [
    "## The categories were inferred based on a text column that contained keywords. Let's reduce the number of categories by joining keywords that are too similar"
   ]
  },
  {
   "cell_type": "code",
   "execution_count": 135,
   "id": "5d536eef",
   "metadata": {},
   "outputs": [],
   "source": [
    "df_imputed_original = df_imputed.copy(deep=True)"
   ]
  },
  {
   "cell_type": "code",
   "execution_count": 178,
   "id": "226523b7",
   "metadata": {},
   "outputs": [],
   "source": [
    "df_imputed = df_imputed_original.copy(deep=True)"
   ]
  },
  {
   "cell_type": "code",
   "execution_count": 13,
   "id": "50c26b71",
   "metadata": {},
   "outputs": [
    {
     "data": {
      "text/plain": [
       "array(['Light Rain', 'Overcast', 'Mostly Cloudy', 'Snow', 'Light Snow',\n",
       "       'Cloudy', nan, 'Scattered Clouds', 'Clear', 'Partly Cloudy',\n",
       "       'Light Freezing Drizzle', 'Light Drizzle', 'Haze', 'Rain',\n",
       "       'Heavy Rain', 'Fair', 'Drizzle', 'Fog', 'Thunderstorms and Rain',\n",
       "       'Patches of Fog', 'Light Thunderstorms and Rain', 'Mist',\n",
       "       'Rain Showers', 'Light Rain Showers', 'Heavy Drizzle', 'Smoke',\n",
       "       'Light Freezing Fog', 'Light Freezing Rain', 'Blowing Snow',\n",
       "       'Heavy Thunderstorms and Rain', 'Heavy Snow', 'Snow Grains',\n",
       "       'Squalls', 'Light Fog', 'Shallow Fog', 'Thunderstorm',\n",
       "       'Light Ice Pellets', 'Thunder', 'Thunder in the Vicinity',\n",
       "       'Fair / Windy', 'Light Rain with Thunder',\n",
       "       'Heavy Thunderstorms and Snow', 'Light Snow Showers',\n",
       "       'Cloudy / Windy', 'Ice Pellets', 'N/A Precipitation',\n",
       "       'Light Thunderstorms and Snow', 'T-Storm', 'Rain / Windy',\n",
       "       'Wintry Mix', 'Partly Cloudy / Windy', 'Heavy T-Storm', 'Sand',\n",
       "       'Light Rain / Windy', 'Widespread Dust', 'Mostly Cloudy / Windy',\n",
       "       'Blowing Dust / Windy', 'Blowing Dust', 'Volcanic Ash',\n",
       "       'Freezing Rain / Windy', 'Small Hail', 'Wintry Mix / Windy',\n",
       "       'Light Snow / Windy', 'Heavy Ice Pellets', 'Heavy Snow / Windy',\n",
       "       'Heavy Rain / Windy', 'Heavy T-Storm / Windy', 'Fog / Windy',\n",
       "       'Dust Whirls', 'Showers in the Vicinity', 'Funnel Cloud',\n",
       "       'Haze / Windy', 'Light Rain Shower', 'Smoke / Windy',\n",
       "       'Light Drizzle / Windy', 'Snow / Windy', 'Partial Fog',\n",
       "       'Light Freezing Rain / Windy', 'Sleet', 'Blowing Snow / Windy',\n",
       "       'Snow and Sleet', 'Snow and Sleet / Windy', 'Squalls / Windy',\n",
       "       'Light Sleet / Windy', 'Freezing Drizzle', 'Freezing Rain',\n",
       "       'Thunder / Windy', 'Drizzle and Fog', 'Light Sleet',\n",
       "       'Thunder / Wintry Mix / Windy', 'Mist / Windy',\n",
       "       'Light Snow and Sleet', 'Rain Shower', 'Sleet / Windy',\n",
       "       'T-Storm / Windy', 'Light Snow and Sleet / Windy',\n",
       "       'Patches of Fog / Windy', 'Drizzle / Windy',\n",
       "       'Sand / Dust Whirls Nearby', 'Light Rain Shower / Windy',\n",
       "       'Heavy Rain Shower', 'Thunder and Hail', 'Drifting Snow',\n",
       "       'Light Snow Shower', 'Sand / Dust Whirlwinds',\n",
       "       'Heavy Blowing Snow', 'Hail', 'Heavy Freezing Drizzle',\n",
       "       'Low Drifting Snow', 'Light Blowing Snow', 'Heavy Rain Showers',\n",
       "       'Light Haze', 'Heavy Thunderstorms with Small Hail',\n",
       "       'Light Snow with Thunder', 'Heavy Snow with Thunder',\n",
       "       'Thunder and Hail / Windy', 'Tornado'], dtype=object)"
      ]
     },
     "execution_count": 13,
     "metadata": {},
     "output_type": "execute_result"
    }
   ],
   "source": [
    "df[\"Weather_Condition\"].unique()"
   ]
  },
  {
   "cell_type": "code",
   "execution_count": 179,
   "id": "48d25b09",
   "metadata": {},
   "outputs": [],
   "source": [
    "light_rain = [name for name in dict(df_imputed[\"Weather_Condition\"].value_counts()).keys() if \"Light\" in name and \"Rain\" in name]\n",
    "df_imputed[\"Weather_Condition\"] = df_imputed[\"Weather_Condition\"].apply(lambda x: \"Light Rain\" if x in light_rain else x)\n",
    "\n",
    "heavy_rain = [name for name in dict(df_imputed[\"Weather_Condition\"].value_counts()).keys() if (\"Heavy\" in name and \"Rain\" in name) or name == \"Thunderstorm\" or name == \"Thunderstorms and Rain\" or \"T-Storm\" in name or \"Thunder\" in name]\n",
    "df_imputed[\"Weather_Condition\"] = df_imputed[\"Weather_Condition\"].apply(lambda x: \"Heavy Rain\" if x in heavy_rain else x)\n",
    "\n",
    "rain = [name for name in dict(df_imputed[\"Weather_Condition\"].value_counts()).keys() if (\"Light\" not in name and \"Heavy\" not in name and \"Rain\" in name) or \"Drizzle\" in name or \"Precipitation\" in name]\n",
    "df_imputed[\"Weather_Condition\"] = df_imputed[\"Weather_Condition\"].apply(lambda x: \"Rain\" if x in rain else x)\n",
    "\n",
    "heavy_snow = [name for name in dict(df_imputed[\"Weather_Condition\"].value_counts()).keys() if \"Heavy\" in name and \"Snow\" in name]\n",
    "df_imputed[\"Weather_Condition\"] = df_imputed[\"Weather_Condition\"].apply(lambda x: \"Heavy Snow\" if x in heavy_snow else x)\n",
    "\n",
    "light_snow = [name for name in dict(df_imputed[\"Weather_Condition\"].value_counts()).keys() if \"Light Snow\" in name]\n",
    "df_imputed[\"Weather_Condition\"] = df_imputed[\"Weather_Condition\"].apply(lambda x: \"Light Snow\" if x in light_snow else x)\n",
    "\n",
    "snow = [name for name in dict(df_imputed[\"Weather_Condition\"].value_counts()).keys() if \"Light Snow\" != name and \"Heavy Snow\" != name and \"Snow\" in name]\n",
    "df_imputed[\"Weather_Condition\"] = df_imputed[\"Weather_Condition\"].apply(lambda x: \"Snow\" if x in snow else x)\n",
    "\n",
    "cloudy_windy = [name for name in dict(df_imputed[\"Weather_Condition\"].value_counts()).keys() if \"Cloud\" in name and \"Wind\" in name]\n",
    "df_imputed[\"Weather_Condition\"] = df_imputed[\"Weather_Condition\"].apply(lambda x: \"Cloudy / Windy\" if x in cloudy_windy else x)\n",
    "\n",
    "partly_cloudy = [name for name in dict(df_imputed[\"Weather_Condition\"].value_counts()).keys() if \"Partly Cloudy\" in name]\n",
    "df_imputed[\"Weather_Condition\"] = df_imputed[\"Weather_Condition\"].apply(lambda x: \"Partly Cloudy\" if x in partly_cloudy else x)\n",
    "\n",
    "mostly_cloudy = [name for name in dict(df_imputed[\"Weather_Condition\"].value_counts()).keys() if \"Mostly Cloudy\" in name]\n",
    "df_imputed[\"Weather_Condition\"] = df_imputed[\"Weather_Condition\"].apply(lambda x: \"Mostly Cloudy\" if x in mostly_cloudy else x)\n",
    "\n",
    "fog = [name for name in dict(df_imputed[\"Weather_Condition\"].value_counts()).keys() if \"Fog\" in name or \"Mist\" in name]\n",
    "df_imputed[\"Weather_Condition\"] = df_imputed[\"Weather_Condition\"].apply(lambda x: \"Fog\" if x in fog else x)"
   ]
  },
  {
   "cell_type": "markdown",
   "id": "b1962e6b",
   "metadata": {},
   "source": [
    "## Let's set them to the mode"
   ]
  },
  {
   "cell_type": "code",
   "execution_count": 164,
   "id": "87aa233d",
   "metadata": {},
   "outputs": [
    {
     "data": {
      "text/plain": [
       "2.0    1212382\n",
       "3.0     161052\n",
       "4.0     114452\n",
       "1.0      28178\n",
       "Name: Severity, dtype: int64"
      ]
     },
     "execution_count": 164,
     "metadata": {},
     "output_type": "execute_result"
    }
   ],
   "source": [
    "df_imputed[\"Severity\"].value_counts()"
   ]
  },
  {
   "cell_type": "code",
   "execution_count": 180,
   "id": "790dcd0f",
   "metadata": {},
   "outputs": [],
   "source": [
    "count_less_than_500_truth_vals = df_imputed.groupby([\"Weather_Condition\"])[\"Weather_Condition\"].count() < 500\n",
    "count_less_than_500 = [key for key in count_less_than_500_truth_vals.keys() if count_less_than_500_truth_vals[key]]\n",
    "weather_condition_mode = df_imputed[\"Weather_Condition\"].mode().iat[0]\n",
    "df_imputed[\"Weather_Condition\"] = df_imputed[\"Weather_Condition\"].apply(lambda x: weather_condition_mode if x in count_less_than_500 else x)\n",
    "df_imputed[\"Weather_Condition\"].fillna(weather_condition_mode, inplace=True)"
   ]
  },
  {
   "cell_type": "code",
   "execution_count": 181,
   "id": "7d0fed05",
   "metadata": {},
   "outputs": [
    {
     "data": {
      "text/plain": [
       "Fair                510269\n",
       "Mostly Cloudy       193595\n",
       "Clear               180223\n",
       "Cloudy              161291\n",
       "Partly Cloudy       133102\n",
       "Overcast             87853\n",
       "Light Rain           77489\n",
       "Scattered Clouds     47061\n",
       "Rain                 24097\n",
       "Light Snow           23218\n",
       "Fog                  22199\n",
       "Haze                 17706\n",
       "Heavy Rain           13324\n",
       "Cloudy / Windy        9037\n",
       "Fair / Windy          6631\n",
       "Smoke                 3608\n",
       "Snow                  3232\n",
       "Wintry Mix            1251\n",
       "Heavy Snow             878\n",
       "Name: Weather_Condition, dtype: int64"
      ]
     },
     "execution_count": 181,
     "metadata": {},
     "output_type": "execute_result"
    }
   ],
   "source": [
    "df_imputed[\"Weather_Condition\"].value_counts()"
   ]
  },
  {
   "cell_type": "code",
   "execution_count": 154,
   "id": "833fca07",
   "metadata": {},
   "outputs": [],
   "source": [
    "count_less_than_500_truth_vals = df_imputed.groupby([\"Weather_Condition\"])[\"Weather_Condition\"].count() < 500\n",
    "count_less_than_500 = [key for key in count_less_than_500_truth_vals.keys() if count_less_than_500_truth_vals[key]]\n",
    "df_imputed[df_imputed[\"Weather_Condition\"].isin(count_less_than_500)] = df_imputed[\"Weather_Condition\"].mode().iat[0]\n",
    "df_imputed[df_imputed[\"Weather_Condition\"].isnull()] = df_imputed[\"Weather_Condition\"].mode().iat[0]"
   ]
  },
  {
   "cell_type": "markdown",
   "id": "08a39344",
   "metadata": {},
   "source": [
    "# Now the Wind_Direction column"
   ]
  },
  {
   "cell_type": "markdown",
   "id": "a7dd6f1b",
   "metadata": {},
   "source": [
    "## We'll set them to the mode too"
   ]
  },
  {
   "cell_type": "code",
   "execution_count": 182,
   "id": "d0dc0f9e",
   "metadata": {
    "scrolled": true
   },
   "outputs": [],
   "source": [
    "wind_direction_mode = df_imputed[\"Wind_Direction\"].mode().iat[0]\n",
    "df_imputed[\"Wind_Direction\"].fillna(wind_direction_mode, inplace=True)"
   ]
  },
  {
   "cell_type": "markdown",
   "id": "e0f3ec62",
   "metadata": {},
   "source": [
    "# Nice, no more null values!"
   ]
  },
  {
   "cell_type": "code",
   "execution_count": 183,
   "id": "797656f1",
   "metadata": {},
   "outputs": [
    {
     "data": {
      "text/plain": [
       "Severity                 0\n",
       "Distance(mi)             0\n",
       "Side                     0\n",
       "Temperature(F)           0\n",
       "Wind_Chill(F)            0\n",
       "Humidity(%)              0\n",
       "Pressure(in)             0\n",
       "Visibility(mi)           0\n",
       "Wind_Speed(mph)          0\n",
       "Precipitation(in)        0\n",
       "Amenity                  0\n",
       "Bump                     0\n",
       "Crossing                 0\n",
       "Give_Way                 0\n",
       "Junction                 0\n",
       "No_Exit                  0\n",
       "Railway                  0\n",
       "Roundabout               0\n",
       "Station                  0\n",
       "Stop                     0\n",
       "Traffic_Calming          0\n",
       "Traffic_Signal           0\n",
       "Sunrise_Sunset           0\n",
       "Civil_Twilight           0\n",
       "Nautical_Twilight        0\n",
       "Astronomical_Twilight    0\n",
       "Month_Of_Year            0\n",
       "Day_Of_Week              0\n",
       "Hour_Of_Day              0\n",
       "Start_Time               0\n",
       "End_Time                 0\n",
       "State                    0\n",
       "Wind_Direction           0\n",
       "Weather_Condition        0\n",
       "dtype: int64"
      ]
     },
     "execution_count": 183,
     "metadata": {},
     "output_type": "execute_result"
    }
   ],
   "source": [
    "df_imputed.isnull().sum()"
   ]
  },
  {
   "cell_type": "markdown",
   "id": "22229def",
   "metadata": {},
   "source": [
    "# Let's load our data (for when running the notebook for not the first time)"
   ]
  },
  {
   "cell_type": "code",
   "execution_count": null,
   "id": "e3bcd74b",
   "metadata": {},
   "outputs": [],
   "source": [
    "df_imputed = pd.read_csv(\"US_Accidents_Dec20_updated_cleaned_imputed.csv\")"
   ]
  },
  {
   "cell_type": "markdown",
   "id": "110a9df6",
   "metadata": {},
   "source": [
    "# Let's save our data"
   ]
  },
  {
   "cell_type": "code",
   "execution_count": 201,
   "id": "2c93621f",
   "metadata": {},
   "outputs": [],
   "source": [
    "df_imputed.to_csv(\"US_Accidents_Dec20_updated_cleaned_imputed.csv\", index=False, header=True)"
   ]
  }
 ],
 "metadata": {
  "kernelspec": {
   "display_name": "Python 3",
   "language": "python",
   "name": "python3"
  },
  "language_info": {
   "codemirror_mode": {
    "name": "ipython",
    "version": 3
   },
   "file_extension": ".py",
   "mimetype": "text/x-python",
   "name": "python",
   "nbconvert_exporter": "python",
   "pygments_lexer": "ipython3",
   "version": "3.8.8"
  }
 },
 "nbformat": 4,
 "nbformat_minor": 5
}
